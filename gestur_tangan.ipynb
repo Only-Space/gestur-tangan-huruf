{
  "nbformat": 4,
  "nbformat_minor": 0,
  "metadata": {
    "colab": {
      "provenance": [],
      "gpuType": "T4",
      "mount_file_id": "1jNBpmrPX2nvrUkueUFqmmnlhlIfQiPoI",
      "authorship_tag": "ABX9TyP8vu2/JC1AL70rbIrY1NZY",
      "include_colab_link": true
    },
    "kernelspec": {
      "name": "python3",
      "display_name": "Python 3"
    },
    "language_info": {
      "name": "python"
    },
    "accelerator": "GPU"
  },
  "cells": [
    {
      "cell_type": "markdown",
      "metadata": {
        "id": "view-in-github",
        "colab_type": "text"
      },
      "source": [
        "<a href=\"https://colab.research.google.com/github/Only-Space/gestur-tangan-huruf/blob/main/gestur_tangan.ipynb\" target=\"_parent\"><img src=\"https://colab.research.google.com/assets/colab-badge.svg\" alt=\"Open In Colab\"/></a>"
      ]
    },
    {
      "cell_type": "code",
      "execution_count": 1,
      "metadata": {
        "id": "gNtvuPFdrU4-"
      },
      "outputs": [],
      "source": [
        "import os\n",
        "import cv2\n",
        "import torch\n",
        "import numpy as np\n",
        "import pandas as pd\n",
        "from PIL import Image\n",
        "import matplotlib.pyplot as plt\n",
        "from tqdm import tqdm\n",
        "from sklearn.model_selection import train_test_split\n",
        "from torchvision import transforms\n",
        "from torch.utils.data import Dataset, DataLoader\n",
        "import torch.nn as nn\n",
        "import torch.optim as optim"
      ]
    },
    {
      "cell_type": "code",
      "source": [
        "import os\n",
        "import zipfile\n",
        "\n",
        "# Path ZIP dan lokasi ekstraksi\n",
        "zip_path = \"/content/drive/MyDrive/dataset/bisindo/dataset-bisindo-22k.zip\"\n",
        "extract_path = \"/content/dataset\"\n",
        "\n",
        "# Ekstraksi jika folder belum ada\n",
        "if not os.path.exists(extract_path):\n",
        "    os.makedirs(extract_path, exist_ok=True)\n",
        "\n",
        "with zipfile.ZipFile(zip_path, 'r') as zip_ref:\n",
        "    zip_ref.extractall(extract_path)\n",
        "\n",
        "print(\"Dataset berhasil diekstrak ke:\", extract_path)\n"
      ],
      "metadata": {
        "id": "KYlZCuZKsCpf",
        "colab": {
          "base_uri": "https://localhost:8080/"
        },
        "outputId": "33ea1475-ef2e-4037-f3a3-4351802be2a2"
      },
      "execution_count": 2,
      "outputs": [
        {
          "output_type": "stream",
          "name": "stdout",
          "text": [
            "Dataset berhasil diekstrak ke: /content/dataset\n"
          ]
        }
      ]
    },
    {
      "cell_type": "code",
      "source": [
        "# Label mapping termasuk huruf Z\n",
        "label_mapping = {\n",
        "    'A': 0, 'B': 1, 'C': 2, 'D': 3, 'E': 4,\n",
        "    'F': 5, 'G': 6, 'H': 7, 'I': 8, 'J': 9,\n",
        "    'K': 10, 'L': 11, 'M': 12, 'N': 13, 'O': 14,\n",
        "    'P': 15, 'Q': 16, 'R': 17, 'S': 18, 'T': 19,\n",
        "    'U': 20, 'V': 21, 'W': 22, 'X': 23, 'Y': 24,\n",
        "    'Z': 25\n",
        "}\n",
        "\n",
        "inv_label_mapping = {v: k for k, v in label_mapping.items()}\n",
        "\n",
        "RANDOM_SEED = 26\n",
        "PATH_DATASET = \"/content/dataset/bisindo\"\n"
      ],
      "metadata": {
        "id": "pKGNfUCIolQQ"
      },
      "execution_count": 3,
      "outputs": []
    },
    {
      "cell_type": "code",
      "source": [
        "from torchvision import transforms\n",
        "\n",
        "# Nilai mean & std dataset\n",
        "DATA_MEAN = (0.5,)\n",
        "DATA_STD = (0.5,)\n",
        "\n",
        "# Transformasi training dengan augmentasi\n",
        "train_transform = transforms.Compose([\n",
        "    transforms.Grayscale(),\n",
        "    transforms.RandomAffine(degrees=10, translate=(0.1, 0.1), scale=(0.9, 1.1)),\n",
        "    transforms.ColorJitter(brightness=0.2, contrast=0.2),\n",
        "    transforms.RandomHorizontalFlip(),\n",
        "    transforms.Resize((28, 28)),\n",
        "    transforms.ToTensor(),\n",
        "    transforms.Normalize(mean=DATA_MEAN, std=DATA_STD)\n",
        "])\n",
        "\n",
        "# Transformasi validasi (tanpa augmentasi)\n",
        "val_transform = transforms.Compose([\n",
        "    transforms.Grayscale(),\n",
        "    transforms.Resize((28, 28)),\n",
        "    transforms.ToTensor(),\n",
        "    transforms.Normalize(mean=DATA_MEAN, std=DATA_STD)\n",
        "])\n"
      ],
      "metadata": {
        "id": "X4qQKwozoogY"
      },
      "execution_count": 4,
      "outputs": []
    },
    {
      "cell_type": "code",
      "source": [
        "import torch\n",
        "from torch.utils.data import Dataset, DataLoader\n",
        "from PIL import Image\n",
        "import os\n",
        "\n",
        "# Corrected paths - assuming images and labels are directly under train and val directories\n",
        "PATH_TRAIN_IMG = os.path.join(PATH_DATASET, \"images/train\")\n",
        "PATH_VAL_IMG = os.path.join(PATH_DATASET, \"images/val\")\n",
        "\n",
        "PATH_TRAIN_LABEL = os.path.join(PATH_DATASET, \"images/train\") # Assuming labels are in the same directories as images\n",
        "PATH_VAL_LABEL = os.path.join(PATH_DATASET, \"images/val\")   # Assuming labels are in the same directories as images\n",
        "\n",
        "class BISINDODataset(Dataset):\n",
        "    def __init__(self, img_dir, label_dir, transform=None):\n",
        "        self.img_dir = img_dir\n",
        "        self.label_dir = label_dir # This might not be needed if labels are inferred from image paths\n",
        "        self.transform = transform\n",
        "        self.data = []\n",
        "\n",
        "        # Modify to iterate through class folders directly under img_dir\n",
        "        for class_name in sorted(os.listdir(img_dir)):\n",
        "            class_img_path = os.path.join(img_dir, class_name)\n",
        "            # Assuming label_dir is the same structure, can infer label from class_name\n",
        "            if os.path.isdir(class_img_path) and class_name in label_mapping: # Check if it's a directory and a valid label\n",
        "                 for img_file in os.listdir(class_img_path):\n",
        "                    img_path = os.path.join(class_img_path, img_file)\n",
        "                    # Assuming label is the class_name\n",
        "                    self.data.append((img_path, label_mapping[class_name]))\n",
        "\n",
        "    def __len__(self):\n",
        "        return len(self.data)\n",
        "\n",
        "    def __getitem__(self, idx):\n",
        "        img_path, label = self.data[idx]\n",
        "        # Convert to RGB to ensure 3 channels consistently before Grayscale transform\n",
        "        image = Image.open(img_path).convert(\"RGB\")\n",
        "\n",
        "\n",
        "        if self.transform:\n",
        "            image = self.transform(image)\n",
        "\n",
        "        return image, label\n",
        "\n",
        "train_dataset = BISINDODataset(PATH_TRAIN_IMG, PATH_TRAIN_LABEL, transform=train_transform)\n",
        "val_dataset = BISINDODataset(PATH_VAL_IMG, PATH_VAL_LABEL, transform=val_transform)\n",
        "\n",
        "train_loader = DataLoader(train_dataset, batch_size=32, shuffle=True)\n",
        "val_loader = DataLoader(val_dataset, batch_size=32, shuffle=False)\n",
        "\n",
        "print(f\"Total data train: {len(train_dataset)}\")\n",
        "print(f\"Total data val: {len(val_dataset)}\")"
      ],
      "metadata": {
        "id": "Ty0TqRxfvA9t",
        "colab": {
          "base_uri": "https://localhost:8080/"
        },
        "outputId": "cdc68e2a-fe84-413b-86e3-c10514443972"
      },
      "execution_count": 5,
      "outputs": [
        {
          "output_type": "stream",
          "name": "stdout",
          "text": [
            "Total data train: 9169\n",
            "Total data val: 2301\n"
          ]
        }
      ]
    },
    {
      "cell_type": "code",
      "source": [
        "class CNN(nn.Module):\n",
        "    def __init__(self, num_classes=26):\n",
        "        super().__init__()\n",
        "        self.features = nn.Sequential(\n",
        "            nn.Conv2d(1, 32, kernel_size=3, stride=1, padding=1),  # Changed input channels to 1\n",
        "            nn.BatchNorm2d(32),\n",
        "            nn.ReLU(),\n",
        "            nn.MaxPool2d(kernel_size=2, stride=2),\n",
        "            nn.Dropout2d(0.25),\n",
        "\n",
        "            nn.Conv2d(32, 64, kernel_size=3, stride=1, padding=1),\n",
        "            nn.BatchNorm2d(64),\n",
        "            nn.ReLU(),\n",
        "            nn.MaxPool2d(kernel_size=2, stride=2),\n",
        "            nn.Dropout2d(0.25),\n",
        "\n",
        "            nn.Conv2d(64, 128, kernel_size=3, stride=1, padding=1),\n",
        "            nn.BatchNorm2d(128),\n",
        "            nn.ReLU(),\n",
        "            nn.MaxPool2d(kernel_size=2, stride=2),\n",
        "            nn.Dropout(0.25),\n",
        "        )\n",
        "\n",
        "        # Calculate the correct input size for the linear layer\n",
        "        # Based on 28x28 input and three MaxPool2d layers with kernel_size=2, stride=2\n",
        "        # 28 -> 14 -> 7 -> 3\n",
        "        flattened_size = 128 * 3 * 3\n",
        "\n",
        "        self.classifier = nn.Sequential(\n",
        "            nn.Flatten(),\n",
        "            nn.Linear(flattened_size, 256),\n",
        "            nn.ReLU(),\n",
        "            nn.Dropout(0.5),\n",
        "            nn.Linear(256, num_classes)\n",
        "        )\n",
        "\n",
        "    def forward(self, x):\n",
        "        return self.classifier(self.features(x))"
      ],
      "metadata": {
        "id": "5iXnidatvfiL"
      },
      "execution_count": 6,
      "outputs": []
    },
    {
      "cell_type": "code",
      "source": [
        "import torch\n",
        "import torch.nn as nn\n",
        "import torch.optim as optim\n",
        "import matplotlib.pyplot as plt\n",
        "from tqdm import tqdm # Untuk progress bar yang lebih baik\n",
        "\n",
        "# -------------------------------------------------------------------------\n",
        "# FUNGSI UNTUK TRAINING (SUDAH DIMODIFIKASI UNTUK MENCATAT HISTORY)\n",
        "# -------------------------------------------------------------------------\n",
        "def train_model(model, train_loader, val_loader, epochs, device):\n",
        "    \"\"\"\n",
        "    Fungsi untuk melatih model dan mencatat riwayat loss & akurasi.\n",
        "    \"\"\"\n",
        "    # Definisikan criterion dan optimizer di sini\n",
        "    criterion = nn.CrossEntropyLoss()\n",
        "    optimizer = optim.Adam(model.parameters(), lr=0.001)\n",
        "\n",
        "    # Siapkan list untuk menyimpan history\n",
        "    history = {\n",
        "        'train_loss': [],\n",
        "        'val_loss': [],\n",
        "        'train_acc': [],\n",
        "        'val_acc': []\n",
        "    }\n",
        "\n",
        "    print(\"🚀 Memulai Training...\")\n",
        "    for epoch in range(epochs):\n",
        "        # --- Training Phase ---\n",
        "        model.train()\n",
        "        running_loss = 0.0\n",
        "        correct_train = 0\n",
        "        total_train = 0\n",
        "\n",
        "        # Progress bar untuk training\n",
        "        train_pbar = tqdm(train_loader, desc=f\"Epoch {epoch+1}/{epochs} [Training]\", unit=\"batch\")\n",
        "\n",
        "        for inputs, labels in train_pbar:\n",
        "            inputs, labels = inputs.to(device), labels.to(device)\n",
        "\n",
        "            optimizer.zero_grad()\n",
        "            outputs = model(inputs)\n",
        "            loss = criterion(outputs, labels)\n",
        "            loss.backward()\n",
        "            optimizer.step()\n",
        "\n",
        "            running_loss += loss.item() * inputs.size(0)\n",
        "            _, predicted = torch.max(outputs.data, 1)\n",
        "            total_train += labels.size(0)\n",
        "            correct_train += (predicted == labels).sum().item()\n",
        "\n",
        "            # Update progress bar\n",
        "            train_pbar.set_postfix(loss=loss.item())\n",
        "\n",
        "        epoch_train_loss = running_loss / len(train_loader.dataset)\n",
        "        epoch_train_acc = correct_train / total_train\n",
        "\n",
        "        # --- Validation Phase ---\n",
        "        model.eval()\n",
        "        running_val_loss = 0.0\n",
        "        correct_val = 0\n",
        "        total_val = 0\n",
        "\n",
        "        val_pbar = tqdm(val_loader, desc=f\"Epoch {epoch+1}/{epochs} [Validation]\", unit=\"batch\")\n",
        "\n",
        "        with torch.no_grad():\n",
        "            for inputs, labels in val_pbar:\n",
        "                inputs, labels = inputs.to(device), labels.to(device)\n",
        "                outputs = model(inputs)\n",
        "                loss = criterion(outputs, labels)\n",
        "\n",
        "                running_val_loss += loss.item() * inputs.size(0)\n",
        "                _, predicted = torch.max(outputs.data, 1)\n",
        "                total_val += labels.size(0)\n",
        "                correct_val += (predicted == labels).sum().item()\n",
        "                val_pbar.set_postfix(loss=loss.item())\n",
        "\n",
        "        epoch_val_loss = running_val_loss / len(val_loader.dataset)\n",
        "        epoch_val_acc = correct_val / total_val\n",
        "\n",
        "        # Simpan hasil epoch ini ke history\n",
        "        history['train_loss'].append(epoch_train_loss)\n",
        "        history['train_acc'].append(epoch_train_acc)\n",
        "        history['val_loss'].append(epoch_val_loss)\n",
        "        history['val_acc'].append(epoch_val_acc)\n",
        "\n",
        "        print(f\"Epoch {epoch+1}/{epochs} | \"\n",
        "              f\"Train Loss: {epoch_train_loss:.4f} | Train Acc: {epoch_train_acc:.4f} | \"\n",
        "              f\"Val Loss: {epoch_val_loss:.4f} | Val Acc: {epoch_val_acc:.4f}\")\n",
        "\n",
        "    return history\n",
        "\n",
        "\n",
        "# -------------------------------------------------------------\n",
        "# FUNGSI BARU UNTUK MEMBUAT PLOT GRAFIK\n",
        "# -------------------------------------------------------------\n",
        "def plot_metrics(history):\n",
        "    \"\"\"\n",
        "    Fungsi untuk memvisualisasikan grafik loss dan akurasi.\n",
        "    \"\"\"\n",
        "    fig, (ax1, ax2) = plt.subplots(1, 2, figsize=(15, 5))\n",
        "\n",
        "    # Plot Loss\n",
        "    ax1.plot(history['train_loss'], label='Training Loss')\n",
        "    ax1.plot(history['val_loss'], label='Validation Loss')\n",
        "    ax1.set_title('Grafik Loss Model')\n",
        "    ax1.set_xlabel('Epoch')\n",
        "    ax1.set_ylabel('Loss')\n",
        "    ax1.legend()\n",
        "    ax1.grid(True)\n",
        "\n",
        "    # Plot Accuracy\n",
        "    ax2.plot(history['train_acc'], label='Training Accuracy')\n",
        "    ax2.plot(history['val_acc'], label='Validation Accuracy')\n",
        "    ax2.set_title('Grafik Akurasi Model')\n",
        "    ax2.set_xlabel('Epoch')\n",
        "    ax2.set_ylabel('Accuracy')\n",
        "    ax2.legend()\n",
        "    ax2.grid(True)\n",
        "\n",
        "    plt.show()"
      ],
      "metadata": {
        "id": "ZuVXo_Vaweub"
      },
      "execution_count": 7,
      "outputs": []
    },
    {
      "cell_type": "code",
      "source": [
        "!nvidia-smi"
      ],
      "metadata": {
        "id": "gYMFByw3L0Wx",
        "colab": {
          "base_uri": "https://localhost:8080/"
        },
        "outputId": "2d1c6bd4-14df-407c-8f5b-aa496cc8510a"
      },
      "execution_count": 8,
      "outputs": [
        {
          "output_type": "stream",
          "name": "stdout",
          "text": [
            "Fri Aug 29 12:35:35 2025       \n",
            "+-----------------------------------------------------------------------------------------+\n",
            "| NVIDIA-SMI 550.54.15              Driver Version: 550.54.15      CUDA Version: 12.4     |\n",
            "|-----------------------------------------+------------------------+----------------------+\n",
            "| GPU  Name                 Persistence-M | Bus-Id          Disp.A | Volatile Uncorr. ECC |\n",
            "| Fan  Temp   Perf          Pwr:Usage/Cap |           Memory-Usage | GPU-Util  Compute M. |\n",
            "|                                         |                        |               MIG M. |\n",
            "|=========================================+========================+======================|\n",
            "|   0  Tesla T4                       Off |   00000000:00:04.0 Off |                    0 |\n",
            "| N/A   36C    P8              9W /   70W |       0MiB /  15360MiB |      0%      Default |\n",
            "|                                         |                        |                  N/A |\n",
            "+-----------------------------------------+------------------------+----------------------+\n",
            "                                                                                         \n",
            "+-----------------------------------------------------------------------------------------+\n",
            "| Processes:                                                                              |\n",
            "|  GPU   GI   CI        PID   Type   Process name                              GPU Memory |\n",
            "|        ID   ID                                                               Usage      |\n",
            "|=========================================================================================|\n",
            "|  No running processes found                                                             |\n",
            "+-----------------------------------------------------------------------------------------+\n"
          ]
        }
      ]
    },
    {
      "cell_type": "code",
      "source": [
        "model = CNN(num_classes=26)\n",
        "# Asumsikan Anda sudah mendefinisikan:\n",
        "# - model = CNN(num_classes=26)\n",
        "# - train_loader dan val_loader\n",
        "# - os, torch, dll sudah di-import\n",
        "\n",
        "# -----------------------------\n",
        "# 1. Inisialisasi Model dan Device\n",
        "# -----------------------------\n",
        "device = torch.device(\"cuda:0\" if torch.cuda.is_available() else \"cpu\")\n",
        "print(f\"Menggunakan device: {device}\")\n",
        "model.to(device)\n",
        "\n",
        "# -----------------------------\n",
        "# 2. Load Checkpoint (jika ada)\n",
        "# -----------------------------\n",
        "checkpoint_path = \"best_model.pth\"\n",
        "if os.path.exists(checkpoint_path):\n",
        "    try:\n",
        "        model.load_state_dict(torch.load(checkpoint_path, map_location=device))\n",
        "        print(f\"✅ Bobot dari checkpoint '{checkpoint_path}' berhasil dimuat.\")\n",
        "    except Exception as e:\n",
        "        print(f\"❌ Gagal memuat checkpoint: {e}\")\n",
        "else:\n",
        "    print(f\"🔎 Checkpoint '{checkpoint_path}' tidak ditemukan. Training dari awal.\")\n",
        "\n",
        "# -----------------------------\n",
        "# 3. Training Lanjutan & Simpan History\n",
        "# -----------------------------\n",
        "epochs = 45\n",
        "print(f\"Memulai pelatihan selama {epochs} epoch...\")\n",
        "\n",
        "# Panggil fungsi train_model dan simpan hasilnya di variabel 'training_history'\n",
        "training_history = train_model(model, train_loader, val_loader, epochs, device)\n",
        "\n",
        "# -----------------------------\n",
        "# 4. Simpan Model Final\n",
        "# -----------------------------\n",
        "torch.save(model.state_dict(), \"cnn_handsign_model_final.pth\")\n",
        "print(\"\\n🎉 Pelatihan selesai! Model final berhasil disimpan.\")\n",
        "\n",
        "# -----------------------------\n",
        "# 5. Visualisasi Hasil Training\n",
        "# -----------------------------\n",
        "print(\"\\n📈 Menampilkan grafik performa model...\")\n",
        "plot_metrics(training_history)"
      ],
      "metadata": {
        "id": "sB6ZeYEewhZx",
        "colab": {
          "base_uri": "https://localhost:8080/",
          "height": 1000
        },
        "outputId": "2c710d58-eadc-4222-a2a9-bfa3a59f6cc0"
      },
      "execution_count": 9,
      "outputs": [
        {
          "output_type": "stream",
          "name": "stdout",
          "text": [
            "Menggunakan device: cuda:0\n",
            "🔎 Checkpoint 'best_model.pth' tidak ditemukan. Training dari awal.\n",
            "Memulai pelatihan selama 45 epoch...\n",
            "🚀 Memulai Training...\n"
          ]
        },
        {
          "output_type": "stream",
          "name": "stderr",
          "text": [
            "Epoch 1/45 [Training]: 100%|██████████| 287/287 [01:21<00:00,  3.54batch/s, loss=2.15]\n",
            "Epoch 1/45 [Validation]: 100%|██████████| 72/72 [00:10<00:00,  6.75batch/s, loss=1.26]\n"
          ]
        },
        {
          "output_type": "stream",
          "name": "stdout",
          "text": [
            "Epoch 1/45 | Train Loss: 2.9201 | Train Acc: 0.1360 | Val Loss: 1.8560 | Val Acc: 0.5211\n"
          ]
        },
        {
          "output_type": "stream",
          "name": "stderr",
          "text": [
            "Epoch 2/45 [Training]: 100%|██████████| 287/287 [01:19<00:00,  3.62batch/s, loss=1.59]\n",
            "Epoch 2/45 [Validation]: 100%|██████████| 72/72 [00:10<00:00,  6.85batch/s, loss=0.948]\n"
          ]
        },
        {
          "output_type": "stream",
          "name": "stdout",
          "text": [
            "Epoch 2/45 | Train Loss: 2.0893 | Train Acc: 0.3541 | Val Loss: 1.2984 | Val Acc: 0.6741\n"
          ]
        },
        {
          "output_type": "stream",
          "name": "stderr",
          "text": [
            "Epoch 3/45 [Training]: 100%|██████████| 287/287 [01:18<00:00,  3.64batch/s, loss=1.36]\n",
            "Epoch 3/45 [Validation]: 100%|██████████| 72/72 [00:11<00:00,  6.48batch/s, loss=0.623]\n"
          ]
        },
        {
          "output_type": "stream",
          "name": "stdout",
          "text": [
            "Epoch 3/45 | Train Loss: 1.7149 | Train Acc: 0.4845 | Val Loss: 1.0582 | Val Acc: 0.7053\n"
          ]
        },
        {
          "output_type": "stream",
          "name": "stderr",
          "text": [
            "Epoch 4/45 [Training]: 100%|██████████| 287/287 [01:18<00:00,  3.64batch/s, loss=1.1]\n",
            "Epoch 4/45 [Validation]: 100%|██████████| 72/72 [00:11<00:00,  6.47batch/s, loss=0.378]\n"
          ]
        },
        {
          "output_type": "stream",
          "name": "stdout",
          "text": [
            "Epoch 4/45 | Train Loss: 1.4943 | Train Acc: 0.5562 | Val Loss: 0.9026 | Val Acc: 0.7510\n"
          ]
        },
        {
          "output_type": "stream",
          "name": "stderr",
          "text": [
            "Epoch 5/45 [Training]: 100%|██████████| 287/287 [01:18<00:00,  3.66batch/s, loss=1.21]\n",
            "Epoch 5/45 [Validation]: 100%|██████████| 72/72 [00:10<00:00,  6.60batch/s, loss=0.376]\n"
          ]
        },
        {
          "output_type": "stream",
          "name": "stdout",
          "text": [
            "Epoch 5/45 | Train Loss: 1.3516 | Train Acc: 0.6027 | Val Loss: 0.8473 | Val Acc: 0.7514\n"
          ]
        },
        {
          "output_type": "stream",
          "name": "stderr",
          "text": [
            "Epoch 6/45 [Training]: 100%|██████████| 287/287 [01:18<00:00,  3.65batch/s, loss=0.911]\n",
            "Epoch 6/45 [Validation]: 100%|██████████| 72/72 [00:10<00:00,  6.65batch/s, loss=0.491]\n"
          ]
        },
        {
          "output_type": "stream",
          "name": "stdout",
          "text": [
            "Epoch 6/45 | Train Loss: 1.2596 | Train Acc: 0.6320 | Val Loss: 0.8128 | Val Acc: 0.7610\n"
          ]
        },
        {
          "output_type": "stream",
          "name": "stderr",
          "text": [
            "Epoch 7/45 [Training]: 100%|██████████| 287/287 [01:17<00:00,  3.71batch/s, loss=0.76]\n",
            "Epoch 7/45 [Validation]: 100%|██████████| 72/72 [00:10<00:00,  6.88batch/s, loss=0.318]\n"
          ]
        },
        {
          "output_type": "stream",
          "name": "stdout",
          "text": [
            "Epoch 7/45 | Train Loss: 1.1912 | Train Acc: 0.6529 | Val Loss: 0.7573 | Val Acc: 0.7753\n"
          ]
        },
        {
          "output_type": "stream",
          "name": "stderr",
          "text": [
            "Epoch 8/45 [Training]: 100%|██████████| 287/287 [01:18<00:00,  3.66batch/s, loss=1.38]\n",
            "Epoch 8/45 [Validation]: 100%|██████████| 72/72 [00:10<00:00,  6.65batch/s, loss=0.318]\n"
          ]
        },
        {
          "output_type": "stream",
          "name": "stdout",
          "text": [
            "Epoch 8/45 | Train Loss: 1.1576 | Train Acc: 0.6618 | Val Loss: 0.7558 | Val Acc: 0.7714\n"
          ]
        },
        {
          "output_type": "stream",
          "name": "stderr",
          "text": [
            "Epoch 9/45 [Training]: 100%|██████████| 287/287 [01:17<00:00,  3.68batch/s, loss=1.67]\n",
            "Epoch 9/45 [Validation]: 100%|██████████| 72/72 [00:10<00:00,  6.62batch/s, loss=0.495]\n"
          ]
        },
        {
          "output_type": "stream",
          "name": "stdout",
          "text": [
            "Epoch 9/45 | Train Loss: 1.1044 | Train Acc: 0.6741 | Val Loss: 0.7225 | Val Acc: 0.7801\n"
          ]
        },
        {
          "output_type": "stream",
          "name": "stderr",
          "text": [
            "Epoch 10/45 [Training]: 100%|██████████| 287/287 [01:18<00:00,  3.67batch/s, loss=1.07]\n",
            "Epoch 10/45 [Validation]: 100%|██████████| 72/72 [00:10<00:00,  6.86batch/s, loss=0.231]\n"
          ]
        },
        {
          "output_type": "stream",
          "name": "stdout",
          "text": [
            "Epoch 10/45 | Train Loss: 1.0721 | Train Acc: 0.6816 | Val Loss: 0.7058 | Val Acc: 0.7818\n"
          ]
        },
        {
          "output_type": "stream",
          "name": "stderr",
          "text": [
            "Epoch 11/45 [Training]: 100%|██████████| 287/287 [01:18<00:00,  3.64batch/s, loss=1]\n",
            "Epoch 11/45 [Validation]: 100%|██████████| 72/72 [00:10<00:00,  7.03batch/s, loss=0.271]\n"
          ]
        },
        {
          "output_type": "stream",
          "name": "stdout",
          "text": [
            "Epoch 11/45 | Train Loss: 1.0461 | Train Acc: 0.6909 | Val Loss: 0.6651 | Val Acc: 0.7940\n"
          ]
        },
        {
          "output_type": "stream",
          "name": "stderr",
          "text": [
            "Epoch 12/45 [Training]: 100%|██████████| 287/287 [01:18<00:00,  3.63batch/s, loss=0.514]\n",
            "Epoch 12/45 [Validation]: 100%|██████████| 72/72 [00:10<00:00,  6.60batch/s, loss=0.3]\n"
          ]
        },
        {
          "output_type": "stream",
          "name": "stdout",
          "text": [
            "Epoch 12/45 | Train Loss: 1.0087 | Train Acc: 0.7001 | Val Loss: 0.6565 | Val Acc: 0.8001\n"
          ]
        },
        {
          "output_type": "stream",
          "name": "stderr",
          "text": [
            "Epoch 13/45 [Training]: 100%|██████████| 287/287 [01:17<00:00,  3.68batch/s, loss=0.744]\n",
            "Epoch 13/45 [Validation]: 100%|██████████| 72/72 [00:10<00:00,  6.64batch/s, loss=0.255]\n"
          ]
        },
        {
          "output_type": "stream",
          "name": "stdout",
          "text": [
            "Epoch 13/45 | Train Loss: 1.0027 | Train Acc: 0.7025 | Val Loss: 0.6383 | Val Acc: 0.8049\n"
          ]
        },
        {
          "output_type": "stream",
          "name": "stderr",
          "text": [
            "Epoch 14/45 [Training]: 100%|██████████| 287/287 [01:18<00:00,  3.66batch/s, loss=0.787]\n",
            "Epoch 14/45 [Validation]: 100%|██████████| 72/72 [00:10<00:00,  6.66batch/s, loss=0.224]\n"
          ]
        },
        {
          "output_type": "stream",
          "name": "stdout",
          "text": [
            "Epoch 14/45 | Train Loss: 0.9763 | Train Acc: 0.7098 | Val Loss: 0.6303 | Val Acc: 0.8070\n"
          ]
        },
        {
          "output_type": "stream",
          "name": "stderr",
          "text": [
            "Epoch 15/45 [Training]: 100%|██████████| 287/287 [01:17<00:00,  3.70batch/s, loss=1.38]\n",
            "Epoch 15/45 [Validation]: 100%|██████████| 72/72 [00:10<00:00,  7.05batch/s, loss=0.204]\n"
          ]
        },
        {
          "output_type": "stream",
          "name": "stdout",
          "text": [
            "Epoch 15/45 | Train Loss: 0.9593 | Train Acc: 0.7135 | Val Loss: 0.6087 | Val Acc: 0.8101\n"
          ]
        },
        {
          "output_type": "stream",
          "name": "stderr",
          "text": [
            "Epoch 16/45 [Training]: 100%|██████████| 287/287 [01:18<00:00,  3.67batch/s, loss=1.7]\n",
            "Epoch 16/45 [Validation]: 100%|██████████| 72/72 [00:10<00:00,  6.72batch/s, loss=0.217]\n"
          ]
        },
        {
          "output_type": "stream",
          "name": "stdout",
          "text": [
            "Epoch 16/45 | Train Loss: 0.9586 | Train Acc: 0.7155 | Val Loss: 0.6039 | Val Acc: 0.8062\n"
          ]
        },
        {
          "output_type": "stream",
          "name": "stderr",
          "text": [
            "Epoch 17/45 [Training]: 100%|██████████| 287/287 [01:17<00:00,  3.70batch/s, loss=0.686]\n",
            "Epoch 17/45 [Validation]: 100%|██████████| 72/72 [00:10<00:00,  6.71batch/s, loss=0.288]\n"
          ]
        },
        {
          "output_type": "stream",
          "name": "stdout",
          "text": [
            "Epoch 17/45 | Train Loss: 0.9189 | Train Acc: 0.7269 | Val Loss: 0.6012 | Val Acc: 0.8127\n"
          ]
        },
        {
          "output_type": "stream",
          "name": "stderr",
          "text": [
            "Epoch 18/45 [Training]: 100%|██████████| 287/287 [01:17<00:00,  3.70batch/s, loss=0.619]\n",
            "Epoch 18/45 [Validation]: 100%|██████████| 72/72 [00:09<00:00,  7.45batch/s, loss=0.172]\n"
          ]
        },
        {
          "output_type": "stream",
          "name": "stdout",
          "text": [
            "Epoch 18/45 | Train Loss: 0.8857 | Train Acc: 0.7306 | Val Loss: 0.5895 | Val Acc: 0.8105\n"
          ]
        },
        {
          "output_type": "stream",
          "name": "stderr",
          "text": [
            "Epoch 19/45 [Training]: 100%|██████████| 287/287 [01:19<00:00,  3.63batch/s, loss=0.997]\n",
            "Epoch 19/45 [Validation]: 100%|██████████| 72/72 [00:10<00:00,  6.71batch/s, loss=0.181]\n"
          ]
        },
        {
          "output_type": "stream",
          "name": "stdout",
          "text": [
            "Epoch 19/45 | Train Loss: 0.8918 | Train Acc: 0.7278 | Val Loss: 0.5777 | Val Acc: 0.8253\n"
          ]
        },
        {
          "output_type": "stream",
          "name": "stderr",
          "text": [
            "Epoch 20/45 [Training]: 100%|██████████| 287/287 [01:19<00:00,  3.63batch/s, loss=1.72]\n",
            "Epoch 20/45 [Validation]: 100%|██████████| 72/72 [00:10<00:00,  6.69batch/s, loss=0.153]\n"
          ]
        },
        {
          "output_type": "stream",
          "name": "stdout",
          "text": [
            "Epoch 20/45 | Train Loss: 0.8861 | Train Acc: 0.7362 | Val Loss: 0.5632 | Val Acc: 0.8157\n"
          ]
        },
        {
          "output_type": "stream",
          "name": "stderr",
          "text": [
            "Epoch 21/45 [Training]: 100%|██████████| 287/287 [01:18<00:00,  3.63batch/s, loss=1.09]\n",
            "Epoch 21/45 [Validation]: 100%|██████████| 72/72 [00:10<00:00,  6.71batch/s, loss=0.124]\n"
          ]
        },
        {
          "output_type": "stream",
          "name": "stdout",
          "text": [
            "Epoch 21/45 | Train Loss: 0.8653 | Train Acc: 0.7435 | Val Loss: 0.5561 | Val Acc: 0.8188\n"
          ]
        },
        {
          "output_type": "stream",
          "name": "stderr",
          "text": [
            "Epoch 22/45 [Training]: 100%|██████████| 287/287 [01:18<00:00,  3.64batch/s, loss=0.49]\n",
            "Epoch 22/45 [Validation]: 100%|██████████| 72/72 [00:10<00:00,  6.71batch/s, loss=0.156]\n"
          ]
        },
        {
          "output_type": "stream",
          "name": "stdout",
          "text": [
            "Epoch 22/45 | Train Loss: 0.8345 | Train Acc: 0.7423 | Val Loss: 0.5479 | Val Acc: 0.8244\n"
          ]
        },
        {
          "output_type": "stream",
          "name": "stderr",
          "text": [
            "Epoch 23/45 [Training]: 100%|██████████| 287/287 [01:18<00:00,  3.64batch/s, loss=1.17]\n",
            "Epoch 23/45 [Validation]: 100%|██████████| 72/72 [00:10<00:00,  7.09batch/s, loss=0.177]\n"
          ]
        },
        {
          "output_type": "stream",
          "name": "stdout",
          "text": [
            "Epoch 23/45 | Train Loss: 0.8372 | Train Acc: 0.7444 | Val Loss: 0.5484 | Val Acc: 0.8275\n"
          ]
        },
        {
          "output_type": "stream",
          "name": "stderr",
          "text": [
            "Epoch 24/45 [Training]: 100%|██████████| 287/287 [01:18<00:00,  3.67batch/s, loss=0.505]\n",
            "Epoch 24/45 [Validation]: 100%|██████████| 72/72 [00:10<00:00,  6.73batch/s, loss=0.148]\n"
          ]
        },
        {
          "output_type": "stream",
          "name": "stdout",
          "text": [
            "Epoch 24/45 | Train Loss: 0.8300 | Train Acc: 0.7474 | Val Loss: 0.5301 | Val Acc: 0.8322\n"
          ]
        },
        {
          "output_type": "stream",
          "name": "stderr",
          "text": [
            "Epoch 25/45 [Training]: 100%|██████████| 287/287 [01:18<00:00,  3.65batch/s, loss=0.765]\n",
            "Epoch 25/45 [Validation]: 100%|██████████| 72/72 [00:10<00:00,  6.64batch/s, loss=0.158]\n"
          ]
        },
        {
          "output_type": "stream",
          "name": "stdout",
          "text": [
            "Epoch 25/45 | Train Loss: 0.8096 | Train Acc: 0.7556 | Val Loss: 0.5192 | Val Acc: 0.8370\n"
          ]
        },
        {
          "output_type": "stream",
          "name": "stderr",
          "text": [
            "Epoch 26/45 [Training]: 100%|██████████| 287/287 [01:18<00:00,  3.65batch/s, loss=0.443]\n",
            "Epoch 26/45 [Validation]: 100%|██████████| 72/72 [00:10<00:00,  6.57batch/s, loss=0.178]\n"
          ]
        },
        {
          "output_type": "stream",
          "name": "stdout",
          "text": [
            "Epoch 26/45 | Train Loss: 0.8111 | Train Acc: 0.7533 | Val Loss: 0.5157 | Val Acc: 0.8388\n"
          ]
        },
        {
          "output_type": "stream",
          "name": "stderr",
          "text": [
            "Epoch 27/45 [Training]: 100%|██████████| 287/287 [01:17<00:00,  3.68batch/s, loss=1.35]\n",
            "Epoch 27/45 [Validation]: 100%|██████████| 72/72 [00:10<00:00,  6.78batch/s, loss=0.152]\n"
          ]
        },
        {
          "output_type": "stream",
          "name": "stdout",
          "text": [
            "Epoch 27/45 | Train Loss: 0.8072 | Train Acc: 0.7549 | Val Loss: 0.5123 | Val Acc: 0.8388\n"
          ]
        },
        {
          "output_type": "stream",
          "name": "stderr",
          "text": [
            "Epoch 28/45 [Training]: 100%|██████████| 287/287 [01:18<00:00,  3.67batch/s, loss=1.3]\n",
            "Epoch 28/45 [Validation]: 100%|██████████| 72/72 [00:10<00:00,  6.94batch/s, loss=0.165]\n"
          ]
        },
        {
          "output_type": "stream",
          "name": "stdout",
          "text": [
            "Epoch 28/45 | Train Loss: 0.7724 | Train Acc: 0.7609 | Val Loss: 0.4957 | Val Acc: 0.8444\n"
          ]
        },
        {
          "output_type": "stream",
          "name": "stderr",
          "text": [
            "Epoch 29/45 [Training]: 100%|██████████| 287/287 [01:18<00:00,  3.63batch/s, loss=1.18]\n",
            "Epoch 29/45 [Validation]: 100%|██████████| 72/72 [00:10<00:00,  6.57batch/s, loss=0.156]\n"
          ]
        },
        {
          "output_type": "stream",
          "name": "stdout",
          "text": [
            "Epoch 29/45 | Train Loss: 0.7531 | Train Acc: 0.7682 | Val Loss: 0.4840 | Val Acc: 0.8492\n"
          ]
        },
        {
          "output_type": "stream",
          "name": "stderr",
          "text": [
            "Epoch 30/45 [Training]: 100%|██████████| 287/287 [01:19<00:00,  3.61batch/s, loss=0.738]\n",
            "Epoch 30/45 [Validation]: 100%|██████████| 72/72 [00:11<00:00,  6.45batch/s, loss=0.165]\n"
          ]
        },
        {
          "output_type": "stream",
          "name": "stdout",
          "text": [
            "Epoch 30/45 | Train Loss: 0.7538 | Train Acc: 0.7680 | Val Loss: 0.4894 | Val Acc: 0.8479\n"
          ]
        },
        {
          "output_type": "stream",
          "name": "stderr",
          "text": [
            "Epoch 31/45 [Training]: 100%|██████████| 287/287 [01:21<00:00,  3.53batch/s, loss=0.832]\n",
            "Epoch 31/45 [Validation]: 100%|██████████| 72/72 [00:11<00:00,  6.50batch/s, loss=0.0944]\n"
          ]
        },
        {
          "output_type": "stream",
          "name": "stdout",
          "text": [
            "Epoch 31/45 | Train Loss: 0.7605 | Train Acc: 0.7658 | Val Loss: 0.4743 | Val Acc: 0.8462\n"
          ]
        },
        {
          "output_type": "stream",
          "name": "stderr",
          "text": [
            "Epoch 32/45 [Training]: 100%|██████████| 287/287 [01:19<00:00,  3.60batch/s, loss=0.768]\n",
            "Epoch 32/45 [Validation]: 100%|██████████| 72/72 [00:11<00:00,  6.43batch/s, loss=0.127]\n"
          ]
        },
        {
          "output_type": "stream",
          "name": "stdout",
          "text": [
            "Epoch 32/45 | Train Loss: 0.7600 | Train Acc: 0.7644 | Val Loss: 0.4505 | Val Acc: 0.8557\n"
          ]
        },
        {
          "output_type": "stream",
          "name": "stderr",
          "text": [
            "Epoch 33/45 [Training]: 100%|██████████| 287/287 [01:19<00:00,  3.62batch/s, loss=0.747]\n",
            "Epoch 33/45 [Validation]: 100%|██████████| 72/72 [00:11<00:00,  6.54batch/s, loss=0.107]\n"
          ]
        },
        {
          "output_type": "stream",
          "name": "stdout",
          "text": [
            "Epoch 33/45 | Train Loss: 0.7287 | Train Acc: 0.7741 | Val Loss: 0.4598 | Val Acc: 0.8583\n"
          ]
        },
        {
          "output_type": "stream",
          "name": "stderr",
          "text": [
            "Epoch 34/45 [Training]: 100%|██████████| 287/287 [01:18<00:00,  3.65batch/s, loss=0.311]\n",
            "Epoch 34/45 [Validation]: 100%|██████████| 72/72 [00:10<00:00,  7.08batch/s, loss=0.0739]\n"
          ]
        },
        {
          "output_type": "stream",
          "name": "stdout",
          "text": [
            "Epoch 34/45 | Train Loss: 0.7412 | Train Acc: 0.7743 | Val Loss: 0.4507 | Val Acc: 0.8575\n"
          ]
        },
        {
          "output_type": "stream",
          "name": "stderr",
          "text": [
            "Epoch 35/45 [Training]: 100%|██████████| 287/287 [01:19<00:00,  3.61batch/s, loss=0.478]\n",
            "Epoch 35/45 [Validation]: 100%|██████████| 72/72 [00:10<00:00,  6.61batch/s, loss=0.0609]\n"
          ]
        },
        {
          "output_type": "stream",
          "name": "stdout",
          "text": [
            "Epoch 35/45 | Train Loss: 0.7135 | Train Acc: 0.7817 | Val Loss: 0.4443 | Val Acc: 0.8618\n"
          ]
        },
        {
          "output_type": "stream",
          "name": "stderr",
          "text": [
            "Epoch 36/45 [Training]: 100%|██████████| 287/287 [01:18<00:00,  3.66batch/s, loss=0.693]\n",
            "Epoch 36/45 [Validation]: 100%|██████████| 72/72 [00:10<00:00,  6.56batch/s, loss=0.106]\n"
          ]
        },
        {
          "output_type": "stream",
          "name": "stdout",
          "text": [
            "Epoch 36/45 | Train Loss: 0.7072 | Train Acc: 0.7842 | Val Loss: 0.4246 | Val Acc: 0.8674\n"
          ]
        },
        {
          "output_type": "stream",
          "name": "stderr",
          "text": [
            "Epoch 37/45 [Training]: 100%|██████████| 287/287 [01:18<00:00,  3.66batch/s, loss=0.0498]\n",
            "Epoch 37/45 [Validation]: 100%|██████████| 72/72 [00:10<00:00,  6.56batch/s, loss=0.0545]\n"
          ]
        },
        {
          "output_type": "stream",
          "name": "stdout",
          "text": [
            "Epoch 37/45 | Train Loss: 0.7083 | Train Acc: 0.7829 | Val Loss: 0.4362 | Val Acc: 0.8609\n"
          ]
        },
        {
          "output_type": "stream",
          "name": "stderr",
          "text": [
            "Epoch 38/45 [Training]: 100%|██████████| 287/287 [01:18<00:00,  3.67batch/s, loss=1.32]\n",
            "Epoch 38/45 [Validation]: 100%|██████████| 72/72 [00:09<00:00,  7.23batch/s, loss=0.0745]\n"
          ]
        },
        {
          "output_type": "stream",
          "name": "stdout",
          "text": [
            "Epoch 38/45 | Train Loss: 0.6925 | Train Acc: 0.7872 | Val Loss: 0.4280 | Val Acc: 0.8701\n"
          ]
        },
        {
          "output_type": "stream",
          "name": "stderr",
          "text": [
            "Epoch 39/45 [Training]: 100%|██████████| 287/287 [01:17<00:00,  3.68batch/s, loss=0.794]\n",
            "Epoch 39/45 [Validation]: 100%|██████████| 72/72 [00:10<00:00,  6.58batch/s, loss=0.0334]\n"
          ]
        },
        {
          "output_type": "stream",
          "name": "stdout",
          "text": [
            "Epoch 39/45 | Train Loss: 0.6857 | Train Acc: 0.7889 | Val Loss: 0.4133 | Val Acc: 0.8644\n"
          ]
        },
        {
          "output_type": "stream",
          "name": "stderr",
          "text": [
            "Epoch 40/45 [Training]: 100%|██████████| 287/287 [01:20<00:00,  3.57batch/s, loss=1.15]\n",
            "Epoch 40/45 [Validation]: 100%|██████████| 72/72 [00:11<00:00,  6.39batch/s, loss=0.031]\n"
          ]
        },
        {
          "output_type": "stream",
          "name": "stdout",
          "text": [
            "Epoch 40/45 | Train Loss: 0.6819 | Train Acc: 0.7920 | Val Loss: 0.4129 | Val Acc: 0.8735\n"
          ]
        },
        {
          "output_type": "stream",
          "name": "stderr",
          "text": [
            "Epoch 41/45 [Training]: 100%|██████████| 287/287 [01:18<00:00,  3.64batch/s, loss=0.799]\n",
            "Epoch 41/45 [Validation]: 100%|██████████| 72/72 [00:10<00:00,  6.62batch/s, loss=0.0399]\n"
          ]
        },
        {
          "output_type": "stream",
          "name": "stdout",
          "text": [
            "Epoch 41/45 | Train Loss: 0.6667 | Train Acc: 0.7929 | Val Loss: 0.3970 | Val Acc: 0.8753\n"
          ]
        },
        {
          "output_type": "stream",
          "name": "stderr",
          "text": [
            "Epoch 42/45 [Training]: 100%|██████████| 287/287 [01:18<00:00,  3.65batch/s, loss=0.314]\n",
            "Epoch 42/45 [Validation]: 100%|██████████| 72/72 [00:10<00:00,  6.67batch/s, loss=0.0395]\n"
          ]
        },
        {
          "output_type": "stream",
          "name": "stdout",
          "text": [
            "Epoch 42/45 | Train Loss: 0.6662 | Train Acc: 0.7926 | Val Loss: 0.4098 | Val Acc: 0.8770\n"
          ]
        },
        {
          "output_type": "stream",
          "name": "stderr",
          "text": [
            "Epoch 43/45 [Training]: 100%|██████████| 287/287 [01:17<00:00,  3.68batch/s, loss=0.488]\n",
            "Epoch 43/45 [Validation]: 100%|██████████| 72/72 [00:10<00:00,  6.88batch/s, loss=0.0114]\n"
          ]
        },
        {
          "output_type": "stream",
          "name": "stdout",
          "text": [
            "Epoch 43/45 | Train Loss: 0.6456 | Train Acc: 0.7974 | Val Loss: 0.3912 | Val Acc: 0.8805\n"
          ]
        },
        {
          "output_type": "stream",
          "name": "stderr",
          "text": [
            "Epoch 44/45 [Training]: 100%|██████████| 287/287 [01:18<00:00,  3.67batch/s, loss=0.183]\n",
            "Epoch 44/45 [Validation]: 100%|██████████| 72/72 [00:10<00:00,  6.59batch/s, loss=0.0339]\n"
          ]
        },
        {
          "output_type": "stream",
          "name": "stdout",
          "text": [
            "Epoch 44/45 | Train Loss: 0.6536 | Train Acc: 0.8004 | Val Loss: 0.3925 | Val Acc: 0.8822\n"
          ]
        },
        {
          "output_type": "stream",
          "name": "stderr",
          "text": [
            "Epoch 45/45 [Training]: 100%|██████████| 287/287 [01:17<00:00,  3.69batch/s, loss=0.359]\n",
            "Epoch 45/45 [Validation]: 100%|██████████| 72/72 [00:10<00:00,  6.55batch/s, loss=0.042]\n"
          ]
        },
        {
          "output_type": "stream",
          "name": "stdout",
          "text": [
            "Epoch 45/45 | Train Loss: 0.6391 | Train Acc: 0.7993 | Val Loss: 0.3820 | Val Acc: 0.8866\n",
            "\n",
            "🎉 Pelatihan selesai! Model final berhasil disimpan.\n",
            "\n",
            "📈 Menampilkan grafik performa model...\n"
          ]
        },
        {
          "output_type": "display_data",
          "data": {
            "text/plain": [
              "<Figure size 1500x500 with 2 Axes>"
            ],
            "image/png": "[encoded data removed]"
          },
          "metadata": {}
        }
      ]
    },
    {
      "cell_type": "code",
      "source": [
        "def evaluate(model, loader, device='cuda'):\n",
        "    model.to(device)\n",
        "    model.eval()\n",
        "    correct = 0\n",
        "    total = 0\n",
        "    incorrect_samples = []\n",
        "\n",
        "    with torch.no_grad():\n",
        "        for images, labels in tqdm(loader, desc=\"Evaluating\"):\n",
        "            images, labels = images.to(device), labels.to(device)\n",
        "            outputs = model(images)\n",
        "            _, preds = outputs.max(1)\n",
        "            total += labels.size(0)\n",
        "\n",
        "            correct += (preds == labels).sum().item()\n",
        "            for i in range(len(labels)):\n",
        "                if preds[i] != labels[i]:\n",
        "                    incorrect_samples.append((images[i].cpu(), preds[i].cpu(), labels[i].cpu()))\n",
        "\n",
        "    print(f\"Accuracy: {100 * correct / total:.2f}%\")\n",
        "    return incorrect_samples"
      ],
      "metadata": {
        "id": "cTw-OBLXPEGI"
      },
      "execution_count": 10,
      "outputs": []
    },
    {
      "cell_type": "code",
      "source": [
        "import os\n",
        "import pandas as pd\n",
        "from torch.utils.data import DataLoader\n",
        "\n",
        "# Try lowercase 'test' first\n",
        "PATH_TEST = os.path.join(PATH_DATASET, \"images/val\")\n",
        "\n",
        "# If lowercase 'test' doesn't exist, try uppercase 'Test' (though less likely based on previous errors)\n",
        "if not os.path.exists(PATH_TEST):\n",
        "    PATH_TEST = os.path.join(PATH_DATASET, \"images/val\")\n",
        "\n",
        "print(f\"Attempting to load test data from: {PATH_TEST}\")\n",
        "\n",
        "# Define LABELS from the keys of label_mapping\n",
        "LABELS = list(label_mapping.keys())\n",
        "\n",
        "data_test = []\n",
        "if os.path.exists(PATH_TEST):\n",
        "    for label in LABELS:\n",
        "        label_path = os.path.join(PATH_TEST, label)\n",
        "        if not os.path.exists(label_path):\n",
        "            print(f\"Warning: {label_path} tidak ditemukan, dilewati.\")\n",
        "            continue\n",
        "        for fname in os.listdir(label_path):\n",
        "            full_path = os.path.join(label_path, fname)\n",
        "            if os.path.isfile(full_path):\n",
        "                data_test.append({\n",
        "                    \"label\": label,  # Simpan string label\n",
        "                    \"full_path\": full_path\n",
        "                })\n",
        "else:\n",
        "    print(f\"Error: Test data directory not found at {PATH_TEST}\")\n",
        "\n",
        "\n",
        "df_test = pd.DataFrame(data_test)\n",
        "\n",
        "# Only create DataLoader if test data was found\n",
        "if len(df_test) > 0:\n",
        "    test_loader = DataLoader(\n",
        "        BISINDODataset(PATH_TEST, PATH_TEST, val_transform), # Use BISINDODataset and correct paths\n",
        "        batch_size=64,\n",
        "        shuffle=False\n",
        "    )\n",
        "    print(f\"Total data test: {len(df_test)}\")\n",
        "else:\n",
        "    print(\"No test data found. Cannot create test_loader.\")"
      ],
      "metadata": {
        "id": "HyPYpUFlPewv",
        "colab": {
          "base_uri": "https://localhost:8080/"
        },
        "outputId": "94f9acc8-49ae-43c2-afb2-8b3f150bfadd"
      },
      "execution_count": 11,
      "outputs": [
        {
          "output_type": "stream",
          "name": "stdout",
          "text": [
            "Attempting to load test data from: /content/dataset/bisindo/images/val\n",
            "Total data test: 2301\n"
          ]
        }
      ]
    },
    {
      "cell_type": "code",
      "source": [
        "incorrect = evaluate(model, test_loader)\n",
        "\n",
        "print(len(incorrect))\n",
        "for i in range(min(5, len(incorrect))):\n",
        "    img, pred, label = incorrect[i]\n",
        "    plt.imshow(img.squeeze(), cmap='gray')\n",
        "    plt.title(f\"Predicted: {inv_label_mapping[pred.item()]}, Actual: {inv_label_mapping[label.item()]}\")\n",
        "    plt.axis('off')\n",
        "    plt.show()"
      ],
      "metadata": {
        "id": "I77z8YYpPggU",
        "colab": {
          "base_uri": "https://localhost:8080/",
          "height": 1000
        },
        "outputId": "7ce58190-27d5-4409-81bf-35ecd2b658e0"
      },
      "execution_count": 12,
      "outputs": [
        {
          "output_type": "stream",
          "name": "stderr",
          "text": [
            "Evaluating: 100%|██████████| 36/36 [00:11<00:00,  3.26it/s]"
          ]
        },
        {
          "output_type": "stream",
          "name": "stdout",
          "text": [
            "Accuracy: 88.66%\n",
            "261\n"
          ]
        },
        {
          "output_type": "stream",
          "name": "stderr",
          "text": [
            "\n"
          ]
        },
        {
          "output_type": "display_data",
          "data": {
            "text/plain": [
              "<Figure size 640x480 with 1 Axes>"
            ],
            "image/png": "[encoded data removed]"
          },
          "metadata": {}
        },
        {
          "output_type": "display_data",
          "data": {
            "text/plain": [
              "<Figure size 640x480 with 1 Axes>"
            ],
            "image/png": "[encoded data removed]"
          },
          "metadata": {}
        },
        {
          "output_type": "display_data",
          "data": {
            "text/plain": [
              "<Figure size 640x480 with 1 Axes>"
            ],
            "image/png": "[encoded data removed]"
          },
          "metadata": {}
        },
        {
          "output_type": "display_data",
          "data": {
            "text/plain": [
              "<Figure size 640x480 with 1 Axes>"
            ],
            "image/png": "[encoded data removed]"
          },
          "metadata": {}
        },
        {
          "output_type": "display_data",
          "data": {
            "text/plain": [
              "<Figure size 640x480 with 1 Axes>"
            ],
            "image/png": "[encoded data removed]"
          },
          "metadata": {}
        }
      ]
    }
  ]
}