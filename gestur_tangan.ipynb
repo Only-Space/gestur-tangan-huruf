{
  "nbformat": 4,
  "nbformat_minor": 0,
  "metadata": {
    "colab": {
      "provenance": [],
      "gpuType": "T4",
      "include_colab_link": true
    },
    "kernelspec": {
      "name": "python3",
      "display_name": "Python 3"
    },
    "language_info": {
      "name": "python"
    },
    "accelerator": "GPU"
  },
  "cells": [
    {
      "cell_type": "markdown",
      "metadata": {
        "id": "view-in-github",
        "colab_type": "text"
      },
      "source": [
        "<a href=\"https://colab.research.google.com/github/Only-Space/gestur-tangan-huruf/blob/main/gestur_tangan.ipynb\" target=\"_parent\"><img src=\"https://colab.research.google.com/assets/colab-badge.svg\" alt=\"Open In Colab\"/></a>"
      ]
    },
    {
      "cell_type": "code",
      "execution_count": 1,
      "metadata": {
        "id": "gNtvuPFdrU4-"
      },
      "outputs": [],
      "source": [
        "import os\n",
        "import cv2\n",
        "import torch\n",
        "import numpy as np\n",
        "import pandas as pd\n",
        "from PIL import Image\n",
        "import matplotlib.pyplot as plt\n",
        "from tqdm import tqdm\n",
        "from sklearn.model_selection import train_test_split\n",
        "from torchvision import transforms\n",
        "from torch.utils.data import Dataset, DataLoader\n",
        "import torch.nn as nn\n",
        "import torch.optim as optim"
      ]
    },
    {
      "cell_type": "code",
      "source": [
        "from google.colab import drive\n",
        "drive.mount('/content/drive')"
      ],
      "metadata": {
        "colab": {
          "base_uri": "https://localhost:8080/"
        },
        "id": "YHBxqXVlhoNU",
        "outputId": "fa7ac09a-38c2-4a94-e686-c4d558c6a76b"
      },
      "execution_count": 2,
      "outputs": [
        {
          "output_type": "stream",
          "name": "stdout",
          "text": [
            "Mounted at /content/drive\n"
          ]
        }
      ]
    },
    {
      "cell_type": "code",
      "source": [
        "import zipfile\n",
        "import os\n",
        "os.environ['CUDA_LAUNCH_BLOCKING'] = '1'\n",
        "\n",
        "# Menentukan lokasi file zip. Sesuaikan 'dataset.zip' jika nama file Anda berbeda.\n",
        "zip_path = '/content/drive/MyDrive/dataset/hand gesture/dataset_gestur_huruf.zip'\n",
        "\n",
        "# Membuka dan mengekstrak file zip\n",
        "with zipfile.ZipFile(zip_path, 'r') as zip_ref:\n",
        "    # Semua isi dari file zip akan diekstrak ke dalam folder bernama 'dataset'\n",
        "    zip_ref.extractall('dataset')\n",
        "\n",
        "# Menampilkan isi dari folder 'dataset' untuk memeriksa apakah ekstraksi berhasil\n",
        "os.listdir('dataset')"
      ],
      "metadata": {
        "colab": {
          "base_uri": "https://localhost:8080/"
        },
        "id": "0pO0r5nquSqU",
        "outputId": "943f50bf-b091-4885-d76e-d2ec619cf46b"
      },
      "execution_count": 3,
      "outputs": [
        {
          "output_type": "execute_result",
          "data": {
            "text/plain": [
              "['Test', 'Train']"
            ]
          },
          "metadata": {},
          "execution_count": 3
        }
      ]
    },
    {
      "cell_type": "code",
      "source": [
        "# path dataset masing masing\n",
        "PATH_DATASET = 'dataset'"
      ],
      "metadata": {
        "id": "IEfLRCmcrZHr"
      },
      "execution_count": 4,
      "outputs": []
    },
    {
      "cell_type": "code",
      "source": [
        "PATH_TRAIN = os.path.join(PATH_DATASET, \"Train\")\n",
        "LABELS = sorted(os.listdir(PATH_TRAIN))\n",
        "\n",
        "label_mapping = {\n",
        "    'A': 0, 'B': 1, 'C': 2, 'D': 3, 'E': 4,\n",
        "    'F': 5, 'G': 6, 'H': 7, 'I': 8, 'K': 9,\n",
        "    'L': 10, 'M': 11, 'N': 12, 'O': 13, 'P': 14,\n",
        "    'Q': 15, 'R': 16, 'S': 17, 'T': 18, 'U': 19,\n",
        "    'V': 20, 'W': 21, 'X': 22, 'Y': 23\n",
        "}\n",
        "\n",
        "inv_label_mapping = {v: k for k, v in label_mapping.items()}\n",
        "\n",
        "RANDOM_SEED = 21"
      ],
      "metadata": {
        "id": "KYlZCuZKsCpf"
      },
      "execution_count": 5,
      "outputs": []
    },
    {
      "cell_type": "code",
      "source": [
        "data = []\n",
        "for label in LABELS:\n",
        "    # loop untuk mencatat label dan path tiap gambar\n",
        "    path_folder = PATH_TRAIN + \"/\" + label\n",
        "\n",
        "    for file in os.listdir(path_folder):\n",
        "        file_dict = {\n",
        "            \"label\": label,\n",
        "            \"full_path\": path_folder + \"/\" + file\n",
        "        }\n",
        "        data.append(file_dict)\n",
        "\n",
        "df = pd.DataFrame(data)"
      ],
      "metadata": {
        "id": "t5kvyViAsFAK"
      },
      "execution_count": 6,
      "outputs": []
    },
    {
      "cell_type": "code",
      "source": [
        "df_train, df_val = train_test_split(df, test_size=0.2, random_state=RANDOM_SEED)"
      ],
      "metadata": {
        "id": "unjZD8iSu3Gg"
      },
      "execution_count": 7,
      "outputs": []
    },
    {
      "cell_type": "code",
      "source": [
        "df_val"
      ],
      "metadata": {
        "id": "OlbRW7FtvXa_",
        "colab": {
          "base_uri": "https://localhost:8080/",
          "height": 423
        },
        "outputId": "78921f7c-16e7-46d7-e6ce-5d9267234ee3"
      },
      "execution_count": 8,
      "outputs": [
        {
          "output_type": "execute_result",
          "data": {
            "text/plain": [
              "      label                    full_path\n",
              "621       A  dataset/Train/A/19884_A.jpg\n",
              "23531     V   dataset/Train/V/7436_V.jpg\n",
              "22834     U   dataset/Train/U/2000_U.jpg\n",
              "24415     W   dataset/Train/W/5516_W.jpg\n",
              "17769     Q  dataset/Train/Q/17925_Q.jpg\n",
              "...     ...                          ...\n",
              "8857      I  dataset/Train/I/11024_I.jpg\n",
              "22405     U  dataset/Train/U/19487_U.jpg\n",
              "8959      I  dataset/Train/I/13529_I.jpg\n",
              "5735      F    dataset/Train/F/749_F.jpg\n",
              "13424     N  dataset/Train/N/11525_N.jpg\n",
              "\n",
              "[5491 rows x 2 columns]"
            ],
            "text/html": [
              "\n",
              "  <div id=\"df-67c69d8c-5bdc-4e2c-92bb-56e7f6ca734a\" class=\"colab-df-container\">\n",
              "    <div>\n",
              "<style scoped>\n",
              "    .dataframe tbody tr th:only-of-type {\n",
              "        vertical-align: middle;\n",
              "    }\n",
              "\n",
              "    .dataframe tbody tr th {\n",
              "        vertical-align: top;\n",
              "    }\n",
              "\n",
              "    .dataframe thead th {\n",
              "        text-align: right;\n",
              "    }\n",
              "</style>\n",
              "<table border=\"1\" class=\"dataframe\">\n",
              "  <thead>\n",
              "    <tr style=\"text-align: right;\">\n",
              "      <th></th>\n",
              "      <th>label</th>\n",
              "      <th>full_path</th>\n",
              "    </tr>\n",
              "  </thead>\n",
              "  <tbody>\n",
              "    <tr>\n",
              "      <th>621</th>\n",
              "      <td>A</td>\n",
              "      <td>dataset/Train/A/19884_A.jpg</td>\n",
              "    </tr>\n",
              "    <tr>\n",
              "      <th>23531</th>\n",
              "      <td>V</td>\n",
              "      <td>dataset/Train/V/7436_V.jpg</td>\n",
              "    </tr>\n",
              "    <tr>\n",
              "      <th>22834</th>\n",
              "      <td>U</td>\n",
              "      <td>dataset/Train/U/2000_U.jpg</td>\n",
              "    </tr>\n",
              "    <tr>\n",
              "      <th>24415</th>\n",
              "      <td>W</td>\n",
              "      <td>dataset/Train/W/5516_W.jpg</td>\n",
              "    </tr>\n",
              "    <tr>\n",
              "      <th>17769</th>\n",
              "      <td>Q</td>\n",
              "      <td>dataset/Train/Q/17925_Q.jpg</td>\n",
              "    </tr>\n",
              "    <tr>\n",
              "      <th>...</th>\n",
              "      <td>...</td>\n",
              "      <td>...</td>\n",
              "    </tr>\n",
              "    <tr>\n",
              "      <th>8857</th>\n",
              "      <td>I</td>\n",
              "      <td>dataset/Train/I/11024_I.jpg</td>\n",
              "    </tr>\n",
              "    <tr>\n",
              "      <th>22405</th>\n",
              "      <td>U</td>\n",
              "      <td>dataset/Train/U/19487_U.jpg</td>\n",
              "    </tr>\n",
              "    <tr>\n",
              "      <th>8959</th>\n",
              "      <td>I</td>\n",
              "      <td>dataset/Train/I/13529_I.jpg</td>\n",
              "    </tr>\n",
              "    <tr>\n",
              "      <th>5735</th>\n",
              "      <td>F</td>\n",
              "      <td>dataset/Train/F/749_F.jpg</td>\n",
              "    </tr>\n",
              "    <tr>\n",
              "      <th>13424</th>\n",
              "      <td>N</td>\n",
              "      <td>dataset/Train/N/11525_N.jpg</td>\n",
              "    </tr>\n",
              "  </tbody>\n",
              "</table>\n",
              "<p>5491 rows × 2 columns</p>\n",
              "</div>\n",
              "    <div class=\"colab-df-buttons\">\n",
              "\n",
              "  <div class=\"colab-df-container\">\n",
              "    <button class=\"colab-df-convert\" onclick=\"convertToInteractive('df-67c69d8c-5bdc-4e2c-92bb-56e7f6ca734a')\"\n",
              "            title=\"Convert this dataframe to an interactive table.\"\n",
              "            style=\"display:none;\">\n",
              "\n",
              "  <svg xmlns=\"http://www.w3.org/2000/svg\" height=\"24px\" viewBox=\"0 -960 960 960\">\n",
              "    <path d=\"M120-120v-720h720v720H120Zm60-500h600v-160H180v160Zm220 220h160v-160H400v160Zm0 220h160v-160H400v160ZM180-400h160v-160H180v160Zm440 0h160v-160H620v160ZM180-180h160v-160H180v160Zm440 0h160v-160H620v160Z\"/>\n",
              "  </svg>\n",
              "    </button>\n",
              "\n",
              "  <style>\n",
              "    .colab-df-container {\n",
              "      display:flex;\n",
              "      gap: 12px;\n",
              "    }\n",
              "\n",
              "    .colab-df-convert {\n",
              "      background-color: #E8F0FE;\n",
              "      border: none;\n",
              "      border-radius: 50%;\n",
              "      cursor: pointer;\n",
              "      display: none;\n",
              "      fill: #1967D2;\n",
              "      height: 32px;\n",
              "      padding: 0 0 0 0;\n",
              "      width: 32px;\n",
              "    }\n",
              "\n",
              "    .colab-df-convert:hover {\n",
              "      background-color: #E2EBFA;\n",
              "      box-shadow: 0px 1px 2px rgba(60, 64, 67, 0.3), 0px 1px 3px 1px rgba(60, 64, 67, 0.15);\n",
              "      fill: #174EA6;\n",
              "    }\n",
              "\n",
              "    .colab-df-buttons div {\n",
              "      margin-bottom: 4px;\n",
              "    }\n",
              "\n",
              "    [theme=dark] .colab-df-convert {\n",
              "      background-color: #3B4455;\n",
              "      fill: #D2E3FC;\n",
              "    }\n",
              "\n",
              "    [theme=dark] .colab-df-convert:hover {\n",
              "      background-color: #434B5C;\n",
              "      box-shadow: 0px 1px 3px 1px rgba(0, 0, 0, 0.15);\n",
              "      filter: drop-shadow(0px 1px 2px rgba(0, 0, 0, 0.3));\n",
              "      fill: #FFFFFF;\n",
              "    }\n",
              "  </style>\n",
              "\n",
              "    <script>\n",
              "      const buttonEl =\n",
              "        document.querySelector('#df-67c69d8c-5bdc-4e2c-92bb-56e7f6ca734a button.colab-df-convert');\n",
              "      buttonEl.style.display =\n",
              "        google.colab.kernel.accessAllowed ? 'block' : 'none';\n",
              "\n",
              "      async function convertToInteractive(key) {\n",
              "        const element = document.querySelector('#df-67c69d8c-5bdc-4e2c-92bb-56e7f6ca734a');\n",
              "        const dataTable =\n",
              "          await google.colab.kernel.invokeFunction('convertToInteractive',\n",
              "                                                    [key], {});\n",
              "        if (!dataTable) return;\n",
              "\n",
              "        const docLinkHtml = 'Like what you see? Visit the ' +\n",
              "          '<a target=\"_blank\" href=https://colab.research.google.com/notebooks/data_table.ipynb>data table notebook</a>'\n",
              "          + ' to learn more about interactive tables.';\n",
              "        element.innerHTML = '';\n",
              "        dataTable['output_type'] = 'display_data';\n",
              "        await google.colab.output.renderOutput(dataTable, element);\n",
              "        const docLink = document.createElement('div');\n",
              "        docLink.innerHTML = docLinkHtml;\n",
              "        element.appendChild(docLink);\n",
              "      }\n",
              "    </script>\n",
              "  </div>\n",
              "\n",
              "\n",
              "    <div id=\"df-f306a727-9d4f-4f9a-b5da-73af9ecf29ad\">\n",
              "      <button class=\"colab-df-quickchart\" onclick=\"quickchart('df-f306a727-9d4f-4f9a-b5da-73af9ecf29ad')\"\n",
              "                title=\"Suggest charts\"\n",
              "                style=\"display:none;\">\n",
              "\n",
              "<svg xmlns=\"http://www.w3.org/2000/svg\" height=\"24px\"viewBox=\"0 0 24 24\"\n",
              "     width=\"24px\">\n",
              "    <g>\n",
              "        <path d=\"M19 3H5c-1.1 0-2 .9-2 2v14c0 1.1.9 2 2 2h14c1.1 0 2-.9 2-2V5c0-1.1-.9-2-2-2zM9 17H7v-7h2v7zm4 0h-2V7h2v10zm4 0h-2v-4h2v4z\"/>\n",
              "    </g>\n",
              "</svg>\n",
              "      </button>\n",
              "\n",
              "<style>\n",
              "  .colab-df-quickchart {\n",
              "      --bg-color: #E8F0FE;\n",
              "      --fill-color: #1967D2;\n",
              "      --hover-bg-color: #E2EBFA;\n",
              "      --hover-fill-color: #174EA6;\n",
              "      --disabled-fill-color: #AAA;\n",
              "      --disabled-bg-color: #DDD;\n",
              "  }\n",
              "\n",
              "  [theme=dark] .colab-df-quickchart {\n",
              "      --bg-color: #3B4455;\n",
              "      --fill-color: #D2E3FC;\n",
              "      --hover-bg-color: #434B5C;\n",
              "      --hover-fill-color: #FFFFFF;\n",
              "      --disabled-bg-color: #3B4455;\n",
              "      --disabled-fill-color: #666;\n",
              "  }\n",
              "\n",
              "  .colab-df-quickchart {\n",
              "    background-color: var(--bg-color);\n",
              "    border: none;\n",
              "    border-radius: 50%;\n",
              "    cursor: pointer;\n",
              "    display: none;\n",
              "    fill: var(--fill-color);\n",
              "    height: 32px;\n",
              "    padding: 0;\n",
              "    width: 32px;\n",
              "  }\n",
              "\n",
              "  .colab-df-quickchart:hover {\n",
              "    background-color: var(--hover-bg-color);\n",
              "    box-shadow: 0 1px 2px rgba(60, 64, 67, 0.3), 0 1px 3px 1px rgba(60, 64, 67, 0.15);\n",
              "    fill: var(--button-hover-fill-color);\n",
              "  }\n",
              "\n",
              "  .colab-df-quickchart-complete:disabled,\n",
              "  .colab-df-quickchart-complete:disabled:hover {\n",
              "    background-color: var(--disabled-bg-color);\n",
              "    fill: var(--disabled-fill-color);\n",
              "    box-shadow: none;\n",
              "  }\n",
              "\n",
              "  .colab-df-spinner {\n",
              "    border: 2px solid var(--fill-color);\n",
              "    border-color: transparent;\n",
              "    border-bottom-color: var(--fill-color);\n",
              "    animation:\n",
              "      spin 1s steps(1) infinite;\n",
              "  }\n",
              "\n",
              "  @keyframes spin {\n",
              "    0% {\n",
              "      border-color: transparent;\n",
              "      border-bottom-color: var(--fill-color);\n",
              "      border-left-color: var(--fill-color);\n",
              "    }\n",
              "    20% {\n",
              "      border-color: transparent;\n",
              "      border-left-color: var(--fill-color);\n",
              "      border-top-color: var(--fill-color);\n",
              "    }\n",
              "    30% {\n",
              "      border-color: transparent;\n",
              "      border-left-color: var(--fill-color);\n",
              "      border-top-color: var(--fill-color);\n",
              "      border-right-color: var(--fill-color);\n",
              "    }\n",
              "    40% {\n",
              "      border-color: transparent;\n",
              "      border-right-color: var(--fill-color);\n",
              "      border-top-color: var(--fill-color);\n",
              "    }\n",
              "    60% {\n",
              "      border-color: transparent;\n",
              "      border-right-color: var(--fill-color);\n",
              "    }\n",
              "    80% {\n",
              "      border-color: transparent;\n",
              "      border-right-color: var(--fill-color);\n",
              "      border-bottom-color: var(--fill-color);\n",
              "    }\n",
              "    90% {\n",
              "      border-color: transparent;\n",
              "      border-bottom-color: var(--fill-color);\n",
              "    }\n",
              "  }\n",
              "</style>\n",
              "\n",
              "      <script>\n",
              "        async function quickchart(key) {\n",
              "          const quickchartButtonEl =\n",
              "            document.querySelector('#' + key + ' button');\n",
              "          quickchartButtonEl.disabled = true;  // To prevent multiple clicks.\n",
              "          quickchartButtonEl.classList.add('colab-df-spinner');\n",
              "          try {\n",
              "            const charts = await google.colab.kernel.invokeFunction(\n",
              "                'suggestCharts', [key], {});\n",
              "          } catch (error) {\n",
              "            console.error('Error during call to suggestCharts:', error);\n",
              "          }\n",
              "          quickchartButtonEl.classList.remove('colab-df-spinner');\n",
              "          quickchartButtonEl.classList.add('colab-df-quickchart-complete');\n",
              "        }\n",
              "        (() => {\n",
              "          let quickchartButtonEl =\n",
              "            document.querySelector('#df-f306a727-9d4f-4f9a-b5da-73af9ecf29ad button');\n",
              "          quickchartButtonEl.style.display =\n",
              "            google.colab.kernel.accessAllowed ? 'block' : 'none';\n",
              "        })();\n",
              "      </script>\n",
              "    </div>\n",
              "\n",
              "  <div id=\"id_d7bab688-b704-4e4e-ae5e-159f5110b93e\">\n",
              "    <style>\n",
              "      .colab-df-generate {\n",
              "        background-color: #E8F0FE;\n",
              "        border: none;\n",
              "        border-radius: 50%;\n",
              "        cursor: pointer;\n",
              "        display: none;\n",
              "        fill: #1967D2;\n",
              "        height: 32px;\n",
              "        padding: 0 0 0 0;\n",
              "        width: 32px;\n",
              "      }\n",
              "\n",
              "      .colab-df-generate:hover {\n",
              "        background-color: #E2EBFA;\n",
              "        box-shadow: 0px 1px 2px rgba(60, 64, 67, 0.3), 0px 1px 3px 1px rgba(60, 64, 67, 0.15);\n",
              "        fill: #174EA6;\n",
              "      }\n",
              "\n",
              "      [theme=dark] .colab-df-generate {\n",
              "        background-color: #3B4455;\n",
              "        fill: #D2E3FC;\n",
              "      }\n",
              "\n",
              "      [theme=dark] .colab-df-generate:hover {\n",
              "        background-color: #434B5C;\n",
              "        box-shadow: 0px 1px 3px 1px rgba(0, 0, 0, 0.15);\n",
              "        filter: drop-shadow(0px 1px 2px rgba(0, 0, 0, 0.3));\n",
              "        fill: #FFFFFF;\n",
              "      }\n",
              "    </style>\n",
              "    <button class=\"colab-df-generate\" onclick=\"generateWithVariable('df_val')\"\n",
              "            title=\"Generate code using this dataframe.\"\n",
              "            style=\"display:none;\">\n",
              "\n",
              "  <svg xmlns=\"http://www.w3.org/2000/svg\" height=\"24px\"viewBox=\"0 0 24 24\"\n",
              "       width=\"24px\">\n",
              "    <path d=\"M7,19H8.4L18.45,9,17,7.55,7,17.6ZM5,21V16.75L18.45,3.32a2,2,0,0,1,2.83,0l1.4,1.43a1.91,1.91,0,0,1,.58,1.4,1.91,1.91,0,0,1-.58,1.4L9.25,21ZM18.45,9,17,7.55Zm-12,3A5.31,5.31,0,0,0,4.9,8.1,5.31,5.31,0,0,0,1,6.5,5.31,5.31,0,0,0,4.9,4.9,5.31,5.31,0,0,0,6.5,1,5.31,5.31,0,0,0,8.1,4.9,5.31,5.31,0,0,0,12,6.5,5.46,5.46,0,0,0,6.5,12Z\"/>\n",
              "  </svg>\n",
              "    </button>\n",
              "    <script>\n",
              "      (() => {\n",
              "      const buttonEl =\n",
              "        document.querySelector('#id_d7bab688-b704-4e4e-ae5e-159f5110b93e button.colab-df-generate');\n",
              "      buttonEl.style.display =\n",
              "        google.colab.kernel.accessAllowed ? 'block' : 'none';\n",
              "\n",
              "      buttonEl.onclick = () => {\n",
              "        google.colab.notebook.generateWithVariable('df_val');\n",
              "      }\n",
              "      })();\n",
              "    </script>\n",
              "  </div>\n",
              "\n",
              "    </div>\n",
              "  </div>\n"
            ],
            "application/vnd.google.colaboratory.intrinsic+json": {
              "type": "dataframe",
              "variable_name": "df_val",
              "summary": "{\n  \"name\": \"df_val\",\n  \"rows\": 5491,\n  \"fields\": [\n    {\n      \"column\": \"label\",\n      \"properties\": {\n        \"dtype\": \"category\",\n        \"num_unique_values\": 24,\n        \"samples\": [\n          \"B\",\n          \"Y\",\n          \"A\"\n        ],\n        \"semantic_type\": \"\",\n        \"description\": \"\"\n      }\n    },\n    {\n      \"column\": \"full_path\",\n      \"properties\": {\n        \"dtype\": \"string\",\n        \"num_unique_values\": 5491,\n        \"samples\": [\n          \"dataset/Train/Q/26056_Q.jpg\",\n          \"dataset/Train/I/10698_I.jpg\",\n          \"dataset/Train/E/20619_E.jpg\"\n        ],\n        \"semantic_type\": \"\",\n        \"description\": \"\"\n      }\n    }\n  ]\n}"
            }
          },
          "metadata": {},
          "execution_count": 8
        }
      ]
    },
    {
      "cell_type": "code",
      "source": [
        "# Hitung mean dan std dari dataset training Anda jika memungkinkan.\n",
        "# Jika tidak, (0.5,) adalah default yang baik untuk data grayscale [0, 1].\n",
        "DATA_MEAN = (0.5,)\n",
        "DATA_STD = (0.5,)\n",
        "\n",
        "# Transformasi untuk data latih (dengan augmentasi yang lebih kaya)\n",
        "train_transform = transforms.Compose([\n",
        "    transforms.Grayscale(),\n",
        "    transforms.RandomAffine(degrees=10, translate=(0.1, 0.1), scale=(0.9, 1.1)),\n",
        "    transforms.ColorJitter(brightness=0.2, contrast=0.2),\n",
        "    transforms.RandomHorizontalFlip(),\n",
        "    transforms.Resize((28, 28)),\n",
        "    transforms.ToTensor(),\n",
        "    transforms.Normalize(mean=DATA_MEAN, std=DATA_STD) # Normalisasi\n",
        "])\n",
        "\n",
        "\n",
        "# Transformasi untuk data validasi (hanya preprocessing, termasuk normalisasi)\n",
        "val_transform = transforms.Compose([\n",
        "    transforms.Grayscale(),\n",
        "    transforms.Resize((28, 28)),\n",
        "    transforms.ToTensor(),\n",
        "    transforms.Normalize(mean=DATA_MEAN, std=DATA_STD) # Normalisasi harus sama\n",
        "])"
      ],
      "metadata": {
        "id": "Ty0TqRxfvA9t"
      },
      "execution_count": 9,
      "outputs": []
    },
    {
      "cell_type": "code",
      "source": [
        "class CustomDataset(Dataset):\n",
        "    def __init__(self, dataframe, transform=None): # Ditambahkan 'transform=None' untuk fleksibilitas\n",
        "        self.data = dataframe\n",
        "        self.transform = transform\n",
        "\n",
        "    def __len__(self):\n",
        "        return len(self.data)\n",
        "\n",
        "    def __getitem__(self, idx):\n",
        "        # Menggunakan 'full_path' sesuai dengan kode Anda\n",
        "        img_path = self.data.iloc[idx]['full_path']\n",
        "        label_str = self.data.iloc[idx]['label']\n",
        "        # Using the correct label mapping\n",
        "        label = label_mapping[label_str]\n",
        "\n",
        "        # .convert('L') untuk Grayscale, ini sudah tepat sekali!\n",
        "        image = Image.open(img_path).convert('L')\n",
        "\n",
        "        if self.transform:\n",
        "            image = self.transform(image)\n",
        "\n",
        "        return image, torch.tensor(label, dtype=torch.long) # .long() sudah benar\n",
        "\n",
        "\n",
        "# --- KODE SPLITTING (Dijalankan terlebih dahulu) ---\n",
        "# Removed dummy data creation and splitting\n",
        "\n",
        "\n",
        "# --- BAGIAN PENGGABUNGAN ---\n",
        "\n",
        "# 3. Definisikan transformasi Anda\n",
        "# Using the transforms defined in cell Ty0TqRxfvA9t\n",
        "# train_transform = transforms.Compose([\n",
        "#     transforms.RandomHorizontalFlip(),\n",
        "#     transforms.RandomRotation(10),\n",
        "#     transforms.ToTensor(),\n",
        "#     transforms.Normalize((0.5,), (0.5,))\n",
        "# ])\n",
        "\n",
        "# val_transform = transforms.Compose([\n",
        "#     transforms.ToTensor(),\n",
        "#     transforms.Normalize((0.5,), (0.5,))\n",
        "# ])\n",
        "\n",
        "# 4. Buat DUA instance CustomDataset menggunakan DataFrame yang sudah di-split\n",
        "train_dataset = CustomDataset(dataframe=df_train, transform=train_transform)\n",
        "val_dataset = CustomDataset(dataframe=df_val, transform=val_transform)"
      ],
      "metadata": {
        "id": "zBIwsCpMvRTb"
      },
      "execution_count": 10,
      "outputs": []
    },
    {
      "cell_type": "code",
      "source": [
        "train_loader = DataLoader(train_dataset, batch_size=32, shuffle=True)\n",
        "val_loader = DataLoader(val_dataset, batch_size=32, shuffle=False)\n",
        "\n",
        "print(f\"✅ Berhasil! Siap untuk training.\")\n",
        "print(f\"Ukuran train_dataset: {len(train_dataset)} sampel\")\n",
        "print(f\"Ukuran val_dataset: {len(val_dataset)} sampel\")"
      ],
      "metadata": {
        "id": "HKgw06SNvaJj",
        "colab": {
          "base_uri": "https://localhost:8080/"
        },
        "outputId": "190ddfd4-3a96-4949-f98c-ff7691c3cb5c"
      },
      "execution_count": 11,
      "outputs": [
        {
          "output_type": "stream",
          "name": "stdout",
          "text": [
            "✅ Berhasil! Siap untuk training.\n",
            "Ukuran train_dataset: 21964 sampel\n",
            "Ukuran val_dataset: 5491 sampel\n"
          ]
        }
      ]
    },
    {
      "cell_type": "code",
      "source": [
        "class CNN(nn.Module):\n",
        "    def __init__(self, num_classes=24):\n",
        "        super().__init__()\n",
        "        self.features = nn.Sequential(\n",
        "            nn.Conv2d(1, 32, kernel_size=3, stride=1, padding=1),\n",
        "            nn.BatchNorm2d(32),\n",
        "            nn.ReLU(),\n",
        "            nn.MaxPool2d(kernel_size=2, stride=2),\n",
        "            nn.Dropout2d(0.25),\n",
        "\n",
        "            nn.Conv2d(32, 64, kernel_size=3, stride=1, padding=1),\n",
        "            nn.BatchNorm2d(64),  # Corrected from 32 to 64\n",
        "            nn.ReLU(),\n",
        "            nn.MaxPool2d(kernel_size=2, stride=2),\n",
        "            nn.Dropout2d(0.25),\n",
        "\n",
        "            nn.Conv2d(64, 128, kernel_size=3, stride=1, padding=1),\n",
        "            nn.BatchNorm2d(128), # Corrected from 32 to 128\n",
        "            nn.ReLU(),\n",
        "            nn.MaxPool2d(kernel_size=2, stride=2),\n",
        "            nn.Dropout(0.25),\n",
        "\n",
        "        )\n",
        "\n",
        "        self.classifier = nn.Sequential(\n",
        "            nn.Flatten(),\n",
        "            nn.Linear(128 * 3 * 3, 256), nn.ReLU(), nn.Dropout(0.5), # Corrected dropout probability\n",
        "            nn.Linear(256, num_classes)\n",
        "        )\n",
        "\n",
        "    def forward(self, x):\n",
        "        return self.classifier(self.features(x))"
      ],
      "metadata": {
        "id": "5iXnidatvfiL"
      },
      "execution_count": 12,
      "outputs": []
    },
    {
      "cell_type": "code",
      "source": [
        "def train_model(model, train_loader, val_loader, epochs, device, patience=7):\n",
        "    model.to(device)\n",
        "    criterion = nn.CrossEntropyLoss()\n",
        "    # --- MODIFIKASI 1: Menambahkan weight_decay ---\n",
        "    optimizer = optim.Adam(model.parameters(), lr=0.001, weight_decay=1e-4)\n",
        "\n",
        "    # --- MODIFIKASI 2: Variabel untuk Early Stopping ---\n",
        "    best_val_loss = np.inf # Kita lacak loss, karena lebih sensitif daripada akurasi\n",
        "    patience_counter = 0\n",
        "    best_model_path = \"best_model.pth\" # File untuk menyimpan model terbaik\n",
        "\n",
        "    print(\"🚀 Memulai proses training...\")\n",
        "    for epoch in range(epochs):\n",
        "        # ... (Bagian training loop tetap sama) ...\n",
        "        model.train()\n",
        "        train_loss, train_correct, total = 0, 0, 0\n",
        "        for images, labels in tqdm(train_loader, desc=f\"Epoch {epoch+1}/{epochs} [Train]\", leave=False):\n",
        "            images, labels = images.to(device), labels.to(device)\n",
        "            optimizer.zero_grad()\n",
        "            outputs = model(images)\n",
        "            loss = criterion(outputs, labels)\n",
        "            loss.backward()\n",
        "            optimizer.step()\n",
        "\n",
        "            train_loss += loss.item()\n",
        "            _, preds = outputs.max(1)\n",
        "            train_correct += (preds == labels).sum().item()\n",
        "            total += labels.size(0)\n",
        "\n",
        "        # ... (Bagian validation loop tetap sama, tapi kita hitung rata-rata loss) ...\n",
        "        val_loss, val_correct = 0, 0\n",
        "        model.eval()\n",
        "        with torch.no_grad():\n",
        "            for images, labels in tqdm(val_loader, desc=f\"Epoch {epoch+1}/{epochs} [Val]\", leave=False):\n",
        "                images, labels = images.to(device), labels.to(device)\n",
        "                outputs = model(images)\n",
        "                loss = criterion(outputs, labels)\n",
        "                val_loss += loss.item()\n",
        "                _, preds = outputs.max(1)\n",
        "                val_correct += (preds == labels).sum().item()\n",
        "\n",
        "        # Hitung metrik rata-rata\n",
        "        avg_train_loss = train_loss / len(train_loader)\n",
        "        avg_val_loss = val_loss / len(val_loader)\n",
        "        train_acc = 100 * train_correct / len(train_loader.dataset)\n",
        "        val_acc = 100 * val_correct / len(val_loader.dataset)\n",
        "\n",
        "        print(f\"Epoch {epoch+1}/{epochs} | Train Acc: {train_acc:.2f}% | Val Acc: {val_acc:.2f}% | Train Loss: {avg_train_loss:.4f} | Val Loss: {avg_val_loss:.4f}\")\n",
        "\n",
        "        # --- MODIFIKASI 2: Logika Early Stopping ---\n",
        "        # Cek apakah validation loss membaik\n",
        "        if avg_val_loss < best_val_loss:\n",
        "            best_val_loss = avg_val_loss\n",
        "            torch.save(model.state_dict(), best_model_path)\n",
        "            print(f\"✅ Val loss membaik! Model terbaik disimpan di '{best_model_path}'\")\n",
        "            patience_counter = 0 # Reset counter\n",
        "        else:\n",
        "            patience_counter += 1\n",
        "            print(f\"⚠️ Val loss tidak membaik. Counter: {patience_counter}/{patience}\")\n",
        "\n",
        "        # Hentikan training jika patience sudah habis\n",
        "        if patience_counter >= patience:\n",
        "            print(f\"🛑 Early stopping terpicu di Epoch {epoch+1}. Training dihentikan.\")\n",
        "            break # Keluar dari loop\n",
        "\n",
        "    print(\"🏁 Training selesai.\")\n",
        "    # Opsional: Muat kembali bobot model terbaik setelah training selesai\n",
        "    model.load_state_dict(torch.load(best_model_path))\n",
        "    return model"
      ],
      "metadata": {
        "id": "ZuVXo_Vaweub"
      },
      "execution_count": 13,
      "outputs": []
    },
    {
      "cell_type": "code",
      "source": [
        "!nvidia-smi"
      ],
      "metadata": {
        "colab": {
          "base_uri": "https://localhost:8080/"
        },
        "id": "gYMFByw3L0Wx",
        "outputId": "cd21960b-9e25-4787-955a-6a45423e075d"
      },
      "execution_count": 14,
      "outputs": [
        {
          "output_type": "stream",
          "name": "stdout",
          "text": [
            "Thu Aug 21 12:08:54 2025       \n",
            "+-----------------------------------------------------------------------------------------+\n",
            "| NVIDIA-SMI 550.54.15              Driver Version: 550.54.15      CUDA Version: 12.4     |\n",
            "|-----------------------------------------+------------------------+----------------------+\n",
            "| GPU  Name                 Persistence-M | Bus-Id          Disp.A | Volatile Uncorr. ECC |\n",
            "| Fan  Temp   Perf          Pwr:Usage/Cap |           Memory-Usage | GPU-Util  Compute M. |\n",
            "|                                         |                        |               MIG M. |\n",
            "|=========================================+========================+======================|\n",
            "|   0  Tesla T4                       Off |   00000000:00:04.0 Off |                    0 |\n",
            "| N/A   60C    P8             11W /   70W |       0MiB /  15360MiB |      0%      Default |\n",
            "|                                         |                        |                  N/A |\n",
            "+-----------------------------------------+------------------------+----------------------+\n",
            "                                                                                         \n",
            "+-----------------------------------------------------------------------------------------+\n",
            "| Processes:                                                                              |\n",
            "|  GPU   GI   CI        PID   Type   Process name                              GPU Memory |\n",
            "|        ID   ID                                                               Usage      |\n",
            "|=========================================================================================|\n",
            "|  No running processes found                                                             |\n",
            "+-----------------------------------------------------------------------------------------+\n"
          ]
        }
      ]
    },
    {
      "cell_type": "code",
      "source": [
        "import torch\n",
        "\n",
        "# 1. Definisikan arsitektur model (harus sama p ersis dengan saat menyimpan)\n",
        "model = CNN(num_classes=24)\n",
        "\n",
        "# 2. Tentukan path ke file checkpoint Anda\n",
        "# Ganti nama file jika Anda menggunakan nama yang berbeda\n",
        "checkpoint_path = \"checkpoint_epoch.pth\"\n",
        "\n",
        "# 3. Muat bobot dari checkpoint ke dalam model\n",
        "# Baris ini akan menimpa bobot acak model dengan bobot yang sudah terlatih\n",
        "try:\n",
        "    model.load_state_dict(torch.load(checkpoint_path))\n",
        "    print(f\"✅ Bobot dari checkpoint '{checkpoint_path}' berhasil dimuat.\")\n",
        "    start_epoch = 0 # You might want to save and load the epoch number too\n",
        "except FileNotFoundError:\n",
        "    print(f\"❌ Checkpoint file '{checkpoint_path}' not found. Training from scratch.\")\n",
        "    start_epoch = 0\n",
        "\n",
        "\n",
        "# 4. Siapkan device dan pindahkan model ke device\n",
        "device = torch.device('cuda:0' if torch.cuda.is_available() else 'cpu')\n",
        "print(f'Menggunakan device: {device}')\n",
        "model.to(device)\n",
        "\n",
        "# 5. Lanjutkan pelatihan atau lakukan evaluasi\n",
        "epochs = 40\n",
        "print(f\"Melanjutkan pelatihan selama {epochs} epoch...\")\n",
        "train_model(model, train_loader, val_loader, epochs, device)\n",
        "\n",
        "# Simpan model final setelah pelatihan selesai\n",
        "torch.save(model.state_dict(), \"cnn_handsign_model_final.pth\")\n",
        "print(\"\\n🎉 Pelatihan selesai! Model final diperbarui.\")"
      ],
      "metadata": {
        "id": "sB6ZeYEewhZx",
        "colab": {
          "base_uri": "https://localhost:8080/"
        },
        "outputId": "78d83126-ffc9-452d-9921-1b810fda4a62"
      },
      "execution_count": 15,
      "outputs": [
        {
          "output_type": "stream",
          "name": "stdout",
          "text": [
            "❌ Checkpoint file 'checkpoint_epoch.pth' not found. Training from scratch.\n",
            "Menggunakan device: cuda:0\n",
            "Melanjutkan pelatihan selama 40 epoch...\n",
            "🚀 Memulai proses training...\n"
          ]
        },
        {
          "output_type": "stream",
          "name": "stderr",
          "text": []
        },
        {
          "output_type": "stream",
          "name": "stdout",
          "text": [
            "Epoch 1/40 | Train Acc: 25.16% | Val Acc: 66.00% | Train Loss: 2.3373 | Val Loss: 1.1114\n",
            "✅ Val loss membaik! Model terbaik disimpan di 'best_model.pth'\n"
          ]
        },
        {
          "output_type": "stream",
          "name": "stderr",
          "text": []
        },
        {
          "output_type": "stream",
          "name": "stdout",
          "text": [
            "Epoch 2/40 | Train Acc: 49.89% | Val Acc: 81.59% | Train Loss: 1.4461 | Val Loss: 0.6273\n",
            "✅ Val loss membaik! Model terbaik disimpan di 'best_model.pth'\n"
          ]
        },
        {
          "output_type": "stream",
          "name": "stderr",
          "text": []
        },
        {
          "output_type": "stream",
          "name": "stdout",
          "text": [
            "Epoch 3/40 | Train Acc: 59.30% | Val Acc: 86.60% | Train Loss: 1.1547 | Val Loss: 0.4220\n",
            "✅ Val loss membaik! Model terbaik disimpan di 'best_model.pth'\n"
          ]
        },
        {
          "output_type": "stream",
          "name": "stderr",
          "text": []
        },
        {
          "output_type": "stream",
          "name": "stdout",
          "text": [
            "Epoch 4/40 | Train Acc: 65.09% | Val Acc: 89.35% | Train Loss: 0.9833 | Val Loss: 0.3566\n",
            "✅ Val loss membaik! Model terbaik disimpan di 'best_model.pth'\n"
          ]
        },
        {
          "output_type": "stream",
          "name": "stderr",
          "text": []
        },
        {
          "output_type": "stream",
          "name": "stdout",
          "text": [
            "Epoch 5/40 | Train Acc: 69.19% | Val Acc: 92.97% | Train Loss: 0.8821 | Val Loss: 0.2484\n",
            "✅ Val loss membaik! Model terbaik disimpan di 'best_model.pth'\n"
          ]
        },
        {
          "output_type": "stream",
          "name": "stderr",
          "text": []
        },
        {
          "output_type": "stream",
          "name": "stdout",
          "text": [
            "Epoch 6/40 | Train Acc: 71.80% | Val Acc: 94.37% | Train Loss: 0.7907 | Val Loss: 0.1987\n",
            "✅ Val loss membaik! Model terbaik disimpan di 'best_model.pth'\n"
          ]
        },
        {
          "output_type": "stream",
          "name": "stderr",
          "text": []
        },
        {
          "output_type": "stream",
          "name": "stdout",
          "text": [
            "Epoch 7/40 | Train Acc: 73.95% | Val Acc: 96.96% | Train Loss: 0.7371 | Val Loss: 0.1601\n",
            "✅ Val loss membaik! Model terbaik disimpan di 'best_model.pth'\n"
          ]
        },
        {
          "output_type": "stream",
          "name": "stderr",
          "text": []
        },
        {
          "output_type": "stream",
          "name": "stdout",
          "text": [
            "Epoch 8/40 | Train Acc: 76.08% | Val Acc: 95.79% | Train Loss: 0.6825 | Val Loss: 0.1541\n",
            "✅ Val loss membaik! Model terbaik disimpan di 'best_model.pth'\n"
          ]
        },
        {
          "output_type": "stream",
          "name": "stderr",
          "text": []
        },
        {
          "output_type": "stream",
          "name": "stdout",
          "text": [
            "Epoch 9/40 | Train Acc: 77.80% | Val Acc: 98.23% | Train Loss: 0.6231 | Val Loss: 0.1012\n",
            "✅ Val loss membaik! Model terbaik disimpan di 'best_model.pth'\n"
          ]
        },
        {
          "output_type": "stream",
          "name": "stderr",
          "text": []
        },
        {
          "output_type": "stream",
          "name": "stdout",
          "text": [
            "Epoch 10/40 | Train Acc: 79.65% | Val Acc: 97.23% | Train Loss: 0.5800 | Val Loss: 0.1085\n",
            "⚠️ Val loss tidak membaik. Counter: 1/7\n"
          ]
        },
        {
          "output_type": "stream",
          "name": "stderr",
          "text": []
        },
        {
          "output_type": "stream",
          "name": "stdout",
          "text": [
            "Epoch 11/40 | Train Acc: 81.39% | Val Acc: 98.22% | Train Loss: 0.5427 | Val Loss: 0.0791\n",
            "✅ Val loss membaik! Model terbaik disimpan di 'best_model.pth'\n"
          ]
        },
        {
          "output_type": "stream",
          "name": "stderr",
          "text": []
        },
        {
          "output_type": "stream",
          "name": "stdout",
          "text": [
            "Epoch 12/40 | Train Acc: 81.59% | Val Acc: 98.89% | Train Loss: 0.5197 | Val Loss: 0.0657\n",
            "✅ Val loss membaik! Model terbaik disimpan di 'best_model.pth'\n"
          ]
        },
        {
          "output_type": "stream",
          "name": "stderr",
          "text": []
        },
        {
          "output_type": "stream",
          "name": "stdout",
          "text": [
            "Epoch 13/40 | Train Acc: 83.21% | Val Acc: 98.89% | Train Loss: 0.4808 | Val Loss: 0.0576\n",
            "✅ Val loss membaik! Model terbaik disimpan di 'best_model.pth'\n"
          ]
        },
        {
          "output_type": "stream",
          "name": "stderr",
          "text": []
        },
        {
          "output_type": "stream",
          "name": "stdout",
          "text": [
            "Epoch 14/40 | Train Acc: 84.56% | Val Acc: 99.24% | Train Loss: 0.4467 | Val Loss: 0.0408\n",
            "✅ Val loss membaik! Model terbaik disimpan di 'best_model.pth'\n"
          ]
        },
        {
          "output_type": "stream",
          "name": "stderr",
          "text": []
        },
        {
          "output_type": "stream",
          "name": "stdout",
          "text": [
            "Epoch 15/40 | Train Acc: 85.45% | Val Acc: 99.47% | Train Loss: 0.4237 | Val Loss: 0.0354\n",
            "✅ Val loss membaik! Model terbaik disimpan di 'best_model.pth'\n"
          ]
        },
        {
          "output_type": "stream",
          "name": "stderr",
          "text": []
        },
        {
          "output_type": "stream",
          "name": "stdout",
          "text": [
            "Epoch 16/40 | Train Acc: 86.03% | Val Acc: 99.20% | Train Loss: 0.4027 | Val Loss: 0.0378\n",
            "⚠️ Val loss tidak membaik. Counter: 1/7\n"
          ]
        },
        {
          "output_type": "stream",
          "name": "stderr",
          "text": []
        },
        {
          "output_type": "stream",
          "name": "stdout",
          "text": [
            "Epoch 17/40 | Train Acc: 87.24% | Val Acc: 99.58% | Train Loss: 0.3766 | Val Loss: 0.0242\n",
            "✅ Val loss membaik! Model terbaik disimpan di 'best_model.pth'\n"
          ]
        },
        {
          "output_type": "stream",
          "name": "stderr",
          "text": []
        },
        {
          "output_type": "stream",
          "name": "stdout",
          "text": [
            "Epoch 18/40 | Train Acc: 87.67% | Val Acc: 99.47% | Train Loss: 0.3624 | Val Loss: 0.0244\n",
            "⚠️ Val loss tidak membaik. Counter: 1/7\n"
          ]
        },
        {
          "output_type": "stream",
          "name": "stderr",
          "text": []
        },
        {
          "output_type": "stream",
          "name": "stdout",
          "text": [
            "Epoch 19/40 | Train Acc: 88.42% | Val Acc: 99.69% | Train Loss: 0.3407 | Val Loss: 0.0147\n",
            "✅ Val loss membaik! Model terbaik disimpan di 'best_model.pth'\n"
          ]
        },
        {
          "output_type": "stream",
          "name": "stderr",
          "text": []
        },
        {
          "output_type": "stream",
          "name": "stdout",
          "text": [
            "Epoch 20/40 | Train Acc: 89.26% | Val Acc: 99.65% | Train Loss: 0.3162 | Val Loss: 0.0147\n",
            "✅ Val loss membaik! Model terbaik disimpan di 'best_model.pth'\n"
          ]
        },
        {
          "output_type": "stream",
          "name": "stderr",
          "text": []
        },
        {
          "output_type": "stream",
          "name": "stdout",
          "text": [
            "Epoch 21/40 | Train Acc: 89.71% | Val Acc: 99.85% | Train Loss: 0.3027 | Val Loss: 0.0124\n",
            "✅ Val loss membaik! Model terbaik disimpan di 'best_model.pth'\n"
          ]
        },
        {
          "output_type": "stream",
          "name": "stderr",
          "text": []
        },
        {
          "output_type": "stream",
          "name": "stdout",
          "text": [
            "Epoch 22/40 | Train Acc: 90.19% | Val Acc: 99.71% | Train Loss: 0.2869 | Val Loss: 0.0128\n",
            "⚠️ Val loss tidak membaik. Counter: 1/7\n"
          ]
        },
        {
          "output_type": "stream",
          "name": "stderr",
          "text": []
        },
        {
          "output_type": "stream",
          "name": "stdout",
          "text": [
            "Epoch 23/40 | Train Acc: 90.89% | Val Acc: 99.78% | Train Loss: 0.2778 | Val Loss: 0.0109\n",
            "✅ Val loss membaik! Model terbaik disimpan di 'best_model.pth'\n"
          ]
        },
        {
          "output_type": "stream",
          "name": "stderr",
          "text": []
        },
        {
          "output_type": "stream",
          "name": "stdout",
          "text": [
            "Epoch 24/40 | Train Acc: 91.39% | Val Acc: 99.96% | Train Loss: 0.2567 | Val Loss: 0.0077\n",
            "✅ Val loss membaik! Model terbaik disimpan di 'best_model.pth'\n"
          ]
        },
        {
          "output_type": "stream",
          "name": "stderr",
          "text": []
        },
        {
          "output_type": "stream",
          "name": "stdout",
          "text": [
            "Epoch 25/40 | Train Acc: 91.38% | Val Acc: 99.89% | Train Loss: 0.2569 | Val Loss: 0.0085\n",
            "⚠️ Val loss tidak membaik. Counter: 1/7\n"
          ]
        },
        {
          "output_type": "stream",
          "name": "stderr",
          "text": []
        },
        {
          "output_type": "stream",
          "name": "stdout",
          "text": [
            "Epoch 26/40 | Train Acc: 92.18% | Val Acc: 99.95% | Train Loss: 0.2339 | Val Loss: 0.0056\n",
            "✅ Val loss membaik! Model terbaik disimpan di 'best_model.pth'\n"
          ]
        },
        {
          "output_type": "stream",
          "name": "stderr",
          "text": []
        },
        {
          "output_type": "stream",
          "name": "stdout",
          "text": [
            "Epoch 27/40 | Train Acc: 92.56% | Val Acc: 99.84% | Train Loss: 0.2303 | Val Loss: 0.0073\n",
            "⚠️ Val loss tidak membaik. Counter: 1/7\n"
          ]
        },
        {
          "output_type": "stream",
          "name": "stderr",
          "text": []
        },
        {
          "output_type": "stream",
          "name": "stdout",
          "text": [
            "Epoch 28/40 | Train Acc: 92.57% | Val Acc: 100.00% | Train Loss: 0.2276 | Val Loss: 0.0039\n",
            "✅ Val loss membaik! Model terbaik disimpan di 'best_model.pth'\n"
          ]
        },
        {
          "output_type": "stream",
          "name": "stderr",
          "text": []
        },
        {
          "output_type": "stream",
          "name": "stdout",
          "text": [
            "Epoch 29/40 | Train Acc: 92.77% | Val Acc: 99.76% | Train Loss: 0.2169 | Val Loss: 0.0075\n",
            "⚠️ Val loss tidak membaik. Counter: 1/7\n"
          ]
        },
        {
          "output_type": "stream",
          "name": "stderr",
          "text": []
        },
        {
          "output_type": "stream",
          "name": "stdout",
          "text": [
            "Epoch 30/40 | Train Acc: 93.23% | Val Acc: 99.95% | Train Loss: 0.2063 | Val Loss: 0.0044\n",
            "⚠️ Val loss tidak membaik. Counter: 2/7\n"
          ]
        },
        {
          "output_type": "stream",
          "name": "stderr",
          "text": []
        },
        {
          "output_type": "stream",
          "name": "stdout",
          "text": [
            "Epoch 31/40 | Train Acc: 93.13% | Val Acc: 99.91% | Train Loss: 0.2021 | Val Loss: 0.0056\n",
            "⚠️ Val loss tidak membaik. Counter: 3/7\n"
          ]
        },
        {
          "output_type": "stream",
          "name": "stderr",
          "text": []
        },
        {
          "output_type": "stream",
          "name": "stdout",
          "text": [
            "Epoch 32/40 | Train Acc: 93.60% | Val Acc: 99.91% | Train Loss: 0.1953 | Val Loss: 0.0036\n",
            "✅ Val loss membaik! Model terbaik disimpan di 'best_model.pth'\n"
          ]
        },
        {
          "output_type": "stream",
          "name": "stderr",
          "text": []
        },
        {
          "output_type": "stream",
          "name": "stdout",
          "text": [
            "Epoch 33/40 | Train Acc: 93.74% | Val Acc: 100.00% | Train Loss: 0.1840 | Val Loss: 0.0016\n",
            "✅ Val loss membaik! Model terbaik disimpan di 'best_model.pth'\n"
          ]
        },
        {
          "output_type": "stream",
          "name": "stderr",
          "text": []
        },
        {
          "output_type": "stream",
          "name": "stdout",
          "text": [
            "Epoch 34/40 | Train Acc: 93.86% | Val Acc: 100.00% | Train Loss: 0.1867 | Val Loss: 0.0027\n",
            "⚠️ Val loss tidak membaik. Counter: 1/7\n"
          ]
        },
        {
          "output_type": "stream",
          "name": "stderr",
          "text": []
        },
        {
          "output_type": "stream",
          "name": "stdout",
          "text": [
            "Epoch 35/40 | Train Acc: 93.84% | Val Acc: 99.98% | Train Loss: 0.1862 | Val Loss: 0.0023\n",
            "⚠️ Val loss tidak membaik. Counter: 2/7\n"
          ]
        },
        {
          "output_type": "stream",
          "name": "stderr",
          "text": []
        },
        {
          "output_type": "stream",
          "name": "stdout",
          "text": [
            "Epoch 36/40 | Train Acc: 94.35% | Val Acc: 99.98% | Train Loss: 0.1767 | Val Loss: 0.0020\n",
            "⚠️ Val loss tidak membaik. Counter: 3/7\n"
          ]
        },
        {
          "output_type": "stream",
          "name": "stderr",
          "text": []
        },
        {
          "output_type": "stream",
          "name": "stdout",
          "text": [
            "Epoch 37/40 | Train Acc: 94.51% | Val Acc: 99.98% | Train Loss: 0.1682 | Val Loss: 0.0027\n",
            "⚠️ Val loss tidak membaik. Counter: 4/7\n"
          ]
        },
        {
          "output_type": "stream",
          "name": "stderr",
          "text": []
        },
        {
          "output_type": "stream",
          "name": "stdout",
          "text": [
            "Epoch 38/40 | Train Acc: 94.62% | Val Acc: 99.96% | Train Loss: 0.1662 | Val Loss: 0.0022\n",
            "⚠️ Val loss tidak membaik. Counter: 5/7\n"
          ]
        },
        {
          "output_type": "stream",
          "name": "stderr",
          "text": []
        },
        {
          "output_type": "stream",
          "name": "stdout",
          "text": [
            "Epoch 39/40 | Train Acc: 94.61% | Val Acc: 99.96% | Train Loss: 0.1663 | Val Loss: 0.0026\n",
            "⚠️ Val loss tidak membaik. Counter: 6/7\n"
          ]
        },
        {
          "output_type": "stream",
          "name": "stderr",
          "text": []
        },
        {
          "output_type": "stream",
          "name": "stdout",
          "text": [
            "Epoch 40/40 | Train Acc: 94.50% | Val Acc: 100.00% | Train Loss: 0.1624 | Val Loss: 0.0012\n",
            "✅ Val loss membaik! Model terbaik disimpan di 'best_model.pth'\n",
            "🏁 Training selesai.\n",
            "\n",
            "🎉 Pelatihan selesai! Model final diperbarui.\n"
          ]
        }
      ]
    },
    {
      "cell_type": "code",
      "source": [
        "import torch\n",
        "import torch.nn as nn\n",
        "from tqdm.notebook import tqdm\n",
        "import numpy as np\n",
        "from sklearn.metrics import classification_report, confusion_matrix\n",
        "import seaborn as sns\n",
        "import matplotlib.pyplot as plt\n",
        "\n",
        "def evaluate_model(model, loader, device, criterion, class_names):\n",
        "    \"\"\"\n",
        "    Fungsi untuk mengevaluasi model pada dataset.\n",
        "\n",
        "    Args:\n",
        "        model (nn.Module): Model yang akan dievaluasi.\n",
        "        loader (DataLoader): DataLoader untuk data evaluasi (validasi atau tes).\n",
        "        device (str): Device untuk komputasi ('cuda' atau 'cpu').\n",
        "        criterion: Fungsi loss (misalnya, nn.CrossEntropyLoss()).\n",
        "        class_names (list): Daftar nama kelas untuk laporan dan plot.\n",
        "    \"\"\"\n",
        "    model.to(device)\n",
        "    model.eval() # Set model ke mode evaluasi\n",
        "\n",
        "    total_loss = 0.0\n",
        "    all_preds = []\n",
        "    all_labels = []\n",
        "    incorrect_samples = []\n",
        "\n",
        "    with torch.no_grad(): # Tidak perlu menghitung gradien saat evaluasi\n",
        "        for images, labels in tqdm(loader, desc=\"Evaluating\"):\n",
        "            images, labels = images.to(device), labels.to(device)\n",
        "\n",
        "            # Forward pass\n",
        "            outputs = model(images)\n",
        "            loss = criterion(outputs, labels)\n",
        "            total_loss += loss.item()\n",
        "\n",
        "            # Dapatkan prediksi\n",
        "            _, preds = outputs.max(1)\n",
        "\n",
        "            # Kumpulkan semua prediksi dan label untuk laporan nanti\n",
        "            all_preds.extend(preds.cpu().numpy())\n",
        "            all_labels.extend(labels.cpu().numpy())\n",
        "\n",
        "            # Kumpulkan sampel yang salah prediksi (jika diperlukan)\n",
        "            for i in range(len(labels)):\n",
        "                if preds[i] != labels[i]:\n",
        "                    incorrect_samples.append((images[i].cpu(), preds[i].cpu(), labels[i].cpu()))\n",
        "\n",
        "    # --- Hitung Metrik Keseluruhan ---\n",
        "    avg_loss = total_loss / len(loader)\n",
        "    accuracy = 100 * (np.array(all_preds) == np.array(all_labels)).sum() / len(all_labels)\n",
        "\n",
        "    print(f\"\\n--- Hasil Evaluasi ---\")\n",
        "    print(f\"Average Loss: {avg_loss:.4f}\")\n",
        "    print(f\"Accuracy: {accuracy:.2f}%\\n\")\n",
        "\n",
        "    # --- Tampilkan Laporan Klasifikasi Rinci ---\n",
        "    print(\"Classification Report:\")\n",
        "    print(classification_report(all_labels, all_preds, target_names=class_names, zero_division=0))\n",
        "\n",
        "    # --- Tampilkan Confusion Matrix ---\n",
        "    print(\"Confusion Matrix:\")\n",
        "    cm = confusion_matrix(all_labels, all_preds)\n",
        "    plt.figure(figsize=(10, 8))\n",
        "    sns.heatmap(cm, annot=True, fmt='d', cmap='Blues', xticklabels=class_names, yticklabels=class_names)\n",
        "    plt.xlabel('Predicted Label')\n",
        "    plt.ylabel('True Label')\n",
        "    plt.title('Confusion Matrix')\n",
        "    plt.show()\n",
        "\n",
        "    return incorrect_samples, avg_loss, accuracy"
      ],
      "metadata": {
        "id": "cTw-OBLXPEGI"
      },
      "execution_count": 16,
      "outputs": []
    },
    {
      "cell_type": "code",
      "source": [
        "import os\n",
        "import pandas as pd\n",
        "from pathlib import Path\n",
        "from torch.utils.data import DataLoader\n",
        "\n",
        "def create_test_loader(test_dir, transform, batch_size=64):\n",
        "    \"\"\"\n",
        "    Membuat DataLoader untuk set data tes.\n",
        "\n",
        "    Args:\n",
        "        test_dir (str): Path ke direktori tes utama (misalnya, '.../Dataset/Test').\n",
        "        transform (callable): Transformasi yang akan diterapkan pada gambar.\n",
        "        batch_size (int): Ukuran batch untuk DataLoader.\n",
        "\n",
        "    Returns:\n",
        "        DataLoader: DataLoader untuk data tes.\n",
        "    \"\"\"\n",
        "    # Menggunakan pathlib untuk menangani path dan mencari file gambar\n",
        "    # Ini lebih modern dan tahan terhadap perbedaan OS (Windows/Linux/Mac)\n",
        "    test_path = Path(test_dir)\n",
        "\n",
        "    # Mencari semua file dengan ekstensi .jpg, .jpeg, atau .png di semua subfolder\n",
        "    # Ini mencegah file non-gambar (seperti .DS_Store atau thumbs.db) ikut terbaca\n",
        "    image_paths = list(test_path.glob('*/*.[jp][pn]g'))\n",
        "\n",
        "    # Ekstrak label dari nama folder induk\n",
        "    labels = [p.parent.name for p in image_paths]\n",
        "\n",
        "    # Buat DataFrame\n",
        "    df_test = pd.DataFrame({\n",
        "        'full_path': image_paths,\n",
        "        'label': labels\n",
        "    })\n",
        "\n",
        "    if df_test.empty:\n",
        "        print(f\"Peringatan: Tidak ada file gambar yang ditemukan di '{test_dir}'\")\n",
        "        return None\n",
        "\n",
        "    print(f\"Total file gambar tes yang ditemukan: {len(df_test)}\")\n",
        "\n",
        "    # Buat CustomDataset dan DataLoader\n",
        "    # Pastikan kelas CustomDataset Anda bisa menerima path object dari pathlib\n",
        "    test_dataset = CustomDataset(df_test, transform)\n",
        "    test_loader = DataLoader(test_dataset, batch_size=batch_size, shuffle=False)\n",
        "\n",
        "    return test_loader\n",
        "\n",
        "# --- Cara Penggunaan ---\n",
        "# Asumsikan PATH_TEST, val_transform, dan CustomDataset sudah ada\n",
        "\n",
        "# Definisikan direktori tes Anda\n",
        "PATH_TEST = os.path.join(PATH_DATASET, \"Test\")\n",
        "\n",
        "# Buat test_loader menggunakan fungsi baru\n",
        "test_loader = create_test_loader(PATH_TEST, val_transform, batch_size=64)\n",
        "\n",
        "# Cek apakah loader berhasil dibuat\n",
        "if test_loader:\n",
        "    print(\"✅ test_loader berhasil dibuat.\")"
      ],
      "metadata": {
        "id": "HyPYpUFlPewv"
      },
      "execution_count": 17,
      "outputs": []
    },
    {
      "cell_type": "code",
      "source": [
        "import torch\n",
        "import torch.nn as nn\n",
        "import matplotlib.pyplot as plt\n",
        "\n",
        "# --- Pastikan semua variabel ini sudah didefinisikan sebelumnya ---\n",
        "# model: model Anda yang sudah dilatih dengan bobot terbaik.\n",
        "# test_loader: DataLoader untuk data tes Anda.\n",
        "# inv_label_mapping: kamus untuk mengubah label integer ke string (misal, {0: 'A', 1: 'B', ...}).\n",
        "# class_names: daftar nama kelas sesuai urutan label integer.\n",
        "# device: 'cuda' atau 'cpu'.\n",
        "\n",
        "# 1. Definisikan criterion untuk perhitungan loss\n",
        "criterion = nn.CrossEntropyLoss()\n",
        "\n",
        "# 2. Panggil fungsi evaluate_model yang sudah ditingkatkan\n",
        "# Fungsi ini membutuhkan semua argumen dan mengembalikan 3 nilai.\n",
        "incorrect_samples, final_loss, final_accuracy = evaluate_model(\n",
        "    model=model,\n",
        "    loader=test_loader,\n",
        "    device=device,\n",
        "    criterion=criterion,\n",
        "    class_names=class_names\n",
        ")\n",
        "\n",
        "print(\"-\" * 50)\n",
        "print(f\"Ditemukan {len(incorrect_samples)} prediksi yang salah dari total {len(test_loader.dataset)} data tes.\")\n",
        "\n",
        "# 3. Visualisasikan beberapa sampel yang salah (menggunakan logika Anda)\n",
        "print(\"Menampilkan hingga 5 contoh prediksi yang salah:\")\n",
        "# Loop ini aman bahkan jika gambar yang salah kurang dari 5\n",
        "for i in range(min(5, len(incorrect_samples))):\n",
        "    img, pred, label = incorrect_samples[i]\n",
        "\n",
        "    # Tips: Denormalisasi gambar agar visualnya lebih jelas\n",
        "    # Jika Anda menggunakan transforms.Normalize((0.5,), (0.5,)):\n",
        "    # img = img * 0.5 + 0.5\n",
        "\n",
        "    plt.imshow(img.squeeze(), cmap='gray')\n",
        "    plt.title(f\"Prediksi: {inv_label_mapping[pred.item()]}\\nAktual: {inv_label_mapping[label.item()]}\")\n",
        "    plt.axis('off')\n",
        "    plt.show()"
      ],
      "metadata": {
        "id": "I77z8YYpPggU",
        "colab": {
          "base_uri": "https://localhost:8080/",
          "height": 1000
        },
        "outputId": "d5a80d9b-3917-4d38-9804-de01a3a5ed74"
      },
      "execution_count": 18,
      "outputs": [
        {
          "output_type": "stream",
          "name": "stderr",
          "text": [
            "Evaluating: 100%|██████████| 113/113 [00:04<00:00, 24.46it/s]\n"
          ]
        },
        {
          "output_type": "stream",
          "name": "stdout",
          "text": [
            "Accuracy: 99.96%\n",
            "3\n"
          ]
        },
        {
          "output_type": "display_data",
          "data": {
            "text/plain": [
              "<Figure size 640x480 with 1 Axes>"
            ],
            "image/png": "[encoded data removed]"
          },
          "metadata": {}
        },
        {
          "output_type": "display_data",
          "data": {
            "text/plain": [
              "<Figure size 640x480 with 1 Axes>"
            ],
            "image/png": "[encoded data removed]"
          },
          "metadata": {}
        },
        {
          "output_type": "display_data",
          "data": {
            "text/plain": [
              "<Figure size 640x480 with 1 Axes>"
            ],
            "image/png": "[encoded data removed]"
          },
          "metadata": {}
        }
      ]
    }
  ]
}