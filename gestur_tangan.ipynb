{
  "nbformat": 4,
  "nbformat_minor": 0,
  "metadata": {
    "colab": {
      "provenance": [],
      "gpuType": "T4",
      "mount_file_id": "1jNBpmrPX2nvrUkueUFqmmnlhlIfQiPoI",
      "authorship_tag": "ABX9TyON1vlrONiVrVcc6kEo7nj9",
      "include_colab_link": true
    },
    "kernelspec": {
      "name": "python3",
      "display_name": "Python 3"
    },
    "language_info": {
      "name": "python"
    },
    "accelerator": "GPU"
  },
  "cells": [
    {
      "cell_type": "markdown",
      "metadata": {
        "id": "view-in-github",
        "colab_type": "text"
      },
      "source": [
        "<a href=\"https://colab.research.google.com/github/Only-Space/gestur-tangan-huruf/blob/main/gestur_tangan.ipynb\" target=\"_parent\"><img src=\"https://colab.research.google.com/assets/colab-badge.svg\" alt=\"Open In Colab\"/></a>"
      ]
    },
    {
      "cell_type": "code",
      "execution_count": 1,
      "metadata": {
        "id": "gNtvuPFdrU4-"
      },
      "outputs": [],
      "source": [
        "import os\n",
        "import cv2\n",
        "import torch\n",
        "import numpy as np\n",
        "import pandas as pd\n",
        "from PIL import Image\n",
        "import matplotlib.pyplot as plt\n",
        "from tqdm import tqdm\n",
        "from sklearn.model_selection import train_test_split\n",
        "from torchvision import transforms\n",
        "from torch.utils.data import Dataset, DataLoader\n",
        "import torch.nn as nn\n",
        "import torch.optim as optim"
      ]
    },
    {
      "cell_type": "code",
      "source": [
        "import os\n",
        "import zipfile\n",
        "\n",
        "# Path ZIP dan lokasi ekstraksi\n",
        "zip_path = \"/content/drive/MyDrive/dataset/bisindo/dataset-bisindo-22k.zip\"\n",
        "extract_path = \"/content/dataset\"\n",
        "\n",
        "# Ekstraksi jika folder belum ada\n",
        "if not os.path.exists(extract_path):\n",
        "    os.makedirs(extract_path, exist_ok=True)\n",
        "\n",
        "with zipfile.ZipFile(zip_path, 'r') as zip_ref:\n",
        "    zip_ref.extractall(extract_path)\n",
        "\n",
        "print(\"Dataset berhasil diekstrak ke:\", extract_path)\n"
      ],
      "metadata": {
        "id": "KYlZCuZKsCpf",
        "colab": {
          "base_uri": "https://localhost:8080/"
        },
        "outputId": "16e0ac84-6876-4db0-dc9d-00e34c499189"
      },
      "execution_count": 2,
      "outputs": [
        {
          "output_type": "stream",
          "name": "stdout",
          "text": [
            "Dataset berhasil diekstrak ke: /content/dataset\n"
          ]
        }
      ]
    },
    {
      "cell_type": "code",
      "source": [
        "# Label mapping termasuk huruf Z\n",
        "label_mapping = {\n",
        "    'A': 0, 'B': 1, 'C': 2, 'D': 3, 'E': 4,\n",
        "    'F': 5, 'G': 6, 'H': 7, 'I': 8, 'J': 9,\n",
        "    'K': 10, 'L': 11, 'M': 12, 'N': 13, 'O': 14,\n",
        "    'P': 15, 'Q': 16, 'R': 17, 'S': 18, 'T': 19,\n",
        "    'U': 20, 'V': 21, 'W': 22, 'X': 23, 'Y': 24,\n",
        "    'Z': 25\n",
        "}\n",
        "\n",
        "inv_label_mapping = {v: k for k, v in label_mapping.items()}\n",
        "\n",
        "RANDOM_SEED = 21\n",
        "PATH_DATASET = \"/content/dataset/bisindo\"\n"
      ],
      "metadata": {
        "id": "pKGNfUCIolQQ"
      },
      "execution_count": 6,
      "outputs": []
    },
    {
      "cell_type": "code",
      "source": [
        "from torchvision import transforms\n",
        "\n",
        "# Nilai mean & std dataset\n",
        "DATA_MEAN = (0.5,)\n",
        "DATA_STD = (0.5,)\n",
        "\n",
        "# Transformasi training dengan augmentasi\n",
        "train_transform = transforms.Compose([\n",
        "    transforms.Grayscale(),\n",
        "    transforms.RandomAffine(degrees=10, translate=(0.1, 0.1), scale=(0.9, 1.1)),\n",
        "    transforms.ColorJitter(brightness=0.2, contrast=0.2),\n",
        "    transforms.RandomHorizontalFlip(),\n",
        "    transforms.Resize((28, 28)),\n",
        "    transforms.ToTensor(),\n",
        "    transforms.Normalize(mean=DATA_MEAN, std=DATA_STD)\n",
        "])\n",
        "\n",
        "# Transformasi validasi (tanpa augmentasi)\n",
        "val_transform = transforms.Compose([\n",
        "    transforms.Grayscale(),\n",
        "    transforms.Resize((28, 28)),\n",
        "    transforms.ToTensor(),\n",
        "    transforms.Normalize(mean=DATA_MEAN, std=DATA_STD)\n",
        "])\n"
      ],
      "metadata": {
        "id": "X4qQKwozoogY"
      },
      "execution_count": 7,
      "outputs": []
    },
    {
      "cell_type": "code",
      "source": [
        "import torch\n",
        "from torch.utils.data import Dataset, DataLoader\n",
        "from PIL import Image\n",
        "import os\n",
        "\n",
        "# Corrected paths - assuming images and labels are directly under train and val directories\n",
        "PATH_TRAIN_IMG = os.path.join(PATH_DATASET, \"images/train\")\n",
        "PATH_VAL_IMG = os.path.join(PATH_DATASET, \"images/val\")\n",
        "\n",
        "PATH_TRAIN_LABEL = os.path.join(PATH_DATASET, \"images/train\") # Assuming labels are in the same directories as images\n",
        "PATH_VAL_LABEL = os.path.join(PATH_DATASET, \"images/val\")   # Assuming labels are in the same directories as images\n",
        "\n",
        "class BISINDODataset(Dataset):\n",
        "    def __init__(self, img_dir, label_dir, transform=None):\n",
        "        self.img_dir = img_dir\n",
        "        self.label_dir = label_dir # This might not be needed if labels are inferred from image paths\n",
        "        self.transform = transform\n",
        "        self.data = []\n",
        "\n",
        "        # Modify to iterate through class folders directly under img_dir\n",
        "        for class_name in sorted(os.listdir(img_dir)):\n",
        "            class_img_path = os.path.join(img_dir, class_name)\n",
        "            # Assuming label_dir is the same structure, can infer label from class_name\n",
        "            if os.path.isdir(class_img_path) and class_name in label_mapping: # Check if it's a directory and a valid label\n",
        "                 for img_file in os.listdir(class_img_path):\n",
        "                    img_path = os.path.join(class_img_path, img_file)\n",
        "                    # Assuming label is the class_name\n",
        "                    self.data.append((img_path, label_mapping[class_name]))\n",
        "\n",
        "    def __len__(self):\n",
        "        return len(self.data)\n",
        "\n",
        "    def __getitem__(self, idx):\n",
        "        img_path, label = self.data[idx]\n",
        "        # Convert to RGB to ensure 3 channels consistently before Grayscale transform\n",
        "        image = Image.open(img_path).convert(\"RGB\")\n",
        "\n",
        "\n",
        "        if self.transform:\n",
        "            image = self.transform(image)\n",
        "\n",
        "        return image, label\n",
        "\n",
        "train_dataset = BISINDODataset(PATH_TRAIN_IMG, PATH_TRAIN_LABEL, transform=train_transform)\n",
        "val_dataset = BISINDODataset(PATH_VAL_IMG, PATH_VAL_LABEL, transform=val_transform)\n",
        "\n",
        "train_loader = DataLoader(train_dataset, batch_size=32, shuffle=True)\n",
        "val_loader = DataLoader(val_dataset, batch_size=32, shuffle=False)\n",
        "\n",
        "print(f\"Total data train: {len(train_dataset)}\")\n",
        "print(f\"Total data val: {len(val_dataset)}\")"
      ],
      "metadata": {
        "id": "Ty0TqRxfvA9t",
        "colab": {
          "base_uri": "https://localhost:8080/"
        },
        "outputId": "d4a7e382-a40b-493d-fd79-54215b669880"
      },
      "execution_count": 9,
      "outputs": [
        {
          "output_type": "stream",
          "name": "stdout",
          "text": [
            "Total data train: 9169\n",
            "Total data val: 2301\n"
          ]
        }
      ]
    },
    {
      "cell_type": "code",
      "source": [
        "class CNN(nn.Module):\n",
        "    def __init__(self, num_classes=26):\n",
        "        super().__init__()\n",
        "        self.features = nn.Sequential(\n",
        "            nn.Conv2d(1, 32, kernel_size=3, stride=1, padding=1),  # Changed input channels to 1\n",
        "            nn.BatchNorm2d(32),\n",
        "            nn.ReLU(),\n",
        "            nn.MaxPool2d(kernel_size=2, stride=2),\n",
        "            nn.Dropout2d(0.25),\n",
        "\n",
        "            nn.Conv2d(32, 64, kernel_size=3, stride=1, padding=1),\n",
        "            nn.BatchNorm2d(64),\n",
        "            nn.ReLU(),\n",
        "            nn.MaxPool2d(kernel_size=2, stride=2),\n",
        "            nn.Dropout2d(0.25),\n",
        "\n",
        "            nn.Conv2d(64, 128, kernel_size=3, stride=1, padding=1),\n",
        "            nn.BatchNorm2d(128),\n",
        "            nn.ReLU(),\n",
        "            nn.MaxPool2d(kernel_size=2, stride=2),\n",
        "            nn.Dropout(0.25),\n",
        "        )\n",
        "\n",
        "        # Calculate the correct input size for the linear layer\n",
        "        # Based on 28x28 input and three MaxPool2d layers with kernel_size=2, stride=2\n",
        "        # 28 -> 14 -> 7 -> 3\n",
        "        flattened_size = 128 * 3 * 3\n",
        "\n",
        "        self.classifier = nn.Sequential(\n",
        "            nn.Flatten(),\n",
        "            nn.Linear(flattened_size, 256),\n",
        "            nn.ReLU(),\n",
        "            nn.Dropout(0.5),\n",
        "            nn.Linear(256, num_classes)\n",
        "        )\n",
        "\n",
        "    def forward(self, x):\n",
        "        return self.classifier(self.features(x))"
      ],
      "metadata": {
        "id": "5iXnidatvfiL"
      },
      "execution_count": 17,
      "outputs": []
    },
    {
      "cell_type": "code",
      "source": [
        "import torch\n",
        "import torch.optim as optim\n",
        "import numpy as np\n",
        "from tqdm import tqdm\n",
        "\n",
        "def train_model(model, train_loader, val_loader, epochs, device, patience=7):\n",
        "    model.to(device)\n",
        "    criterion = nn.CrossEntropyLoss()\n",
        "\n",
        "    # Optimizer dengan weight_decay\n",
        "    optimizer = optim.Adam(model.parameters(), lr=0.001, weight_decay=1e-4)\n",
        "\n",
        "    # Early Stopping setup\n",
        "    best_val_loss = np.inf\n",
        "    patience_counter = 0\n",
        "    best_model_path = \"best_model.pth\"\n",
        "\n",
        "    print(\"🚀 Memulai proses training...\")\n",
        "    for epoch in range(epochs):\n",
        "        # Training Phase\n",
        "        model.train()\n",
        "        train_loss, train_correct, total = 0, 0, 0\n",
        "        for images, labels in tqdm(train_loader, desc=f\"Epoch {epoch+1}/{epochs} [Train]\", leave=False):\n",
        "            images, labels = images.to(device), labels.to(device)\n",
        "            optimizer.zero_grad()\n",
        "            outputs = model(images)\n",
        "            loss = criterion(outputs, labels)\n",
        "            loss.backward()\n",
        "            optimizer.step()\n",
        "\n",
        "            train_loss += loss.item()\n",
        "            _, preds = outputs.max(1)\n",
        "            train_correct += (preds == labels).sum().item()\n",
        "            total += labels.size(0)\n",
        "\n",
        "        # Validation Phase\n",
        "        val_loss, val_correct = 0, 0\n",
        "        model.eval()\n",
        "        with torch.no_grad():\n",
        "            for images, labels in tqdm(val_loader, desc=f\"Epoch {epoch+1}/{epochs} [Val]\", leave=False):\n",
        "                images, labels = images.to(device), labels.to(device)\n",
        "                outputs = model(images)\n",
        "                loss = criterion(outputs, labels)\n",
        "                val_loss += loss.item()\n",
        "                _, preds = outputs.max(1)\n",
        "                val_correct += (preds == labels).sum().item()\n",
        "\n",
        "        # Hitung metrik rata-rata\n",
        "        avg_train_loss = train_loss / len(train_loader)\n",
        "        avg_val_loss = val_loss / len(val_loader)\n",
        "        train_acc = 100 * train_correct / len(train_loader.dataset)\n",
        "        val_acc = 100 * val_correct / len(val_loader.dataset)\n",
        "\n",
        "        print(f\"Epoch {epoch+1}/{epochs} | \"\n",
        "              f\"Train Acc: {train_acc:.2f}% | Val Acc: {val_acc:.2f}% | \"\n",
        "              f\"Train Loss: {avg_train_loss:.4f} | Val Loss: {avg_val_loss:.4f}\")\n",
        "\n",
        "        # Early Stopping Logic\n",
        "        if avg_val_loss < best_val_loss:\n",
        "            best_val_loss = avg_val_loss\n",
        "            torch.save(model.state_dict(), best_model_path)\n",
        "            print(f\"✅ Val loss membaik! Model terbaik disimpan di '{best_model_path}'\")\n",
        "            patience_counter = 0\n",
        "        else:\n",
        "            patience_counter += 1\n",
        "            print(f\"⚠️ Val loss tidak membaik. Counter: {patience_counter}/{patience}\")\n",
        "\n",
        "        if patience_counter >= patience:\n",
        "            print(f\"🛑 Early stopping terpicu di Epoch {epoch+1}. Training dihentikan.\")\n",
        "            break\n",
        "\n",
        "    print(\"🏁 Training selesai.\")\n",
        "    model.load_state_dict(torch.load(best_model_path))\n",
        "    return model\n"
      ],
      "metadata": {
        "id": "ZuVXo_Vaweub"
      },
      "execution_count": 14,
      "outputs": []
    },
    {
      "cell_type": "code",
      "source": [
        "!nvidia-smi"
      ],
      "metadata": {
        "id": "gYMFByw3L0Wx"
      },
      "execution_count": null,
      "outputs": []
    },
    {
      "cell_type": "code",
      "source": [
        "model = CNN(num_classes=26)\n",
        "device = torch.device(\"cuda:0\" if torch.cuda.is_available() else \"cpu\")\n",
        "print(f\"Menggunakan device: {device}\")\n",
        "model.to(device)\n",
        "\n",
        "checkpoint_path = \"best_model.pth\"\n",
        "\n",
        "# Cek apakah checkpoint ada\n",
        "if os.path.exists(checkpoint_path):\n",
        "    try:\n",
        "        model.load_state_dict(torch.load(checkpoint_path, map_location=device))\n",
        "        print(f\"✅ Bobot dari checkpoint '{checkpoint_path}' berhasil dimuat.\")\n",
        "        start_epoch = 0  # Atur jika menyimpan epoch juga\n",
        "    except Exception as e:\n",
        "        print(f\"❌ Gagal memuat checkpoint: {e}\")\n",
        "        start_epoch = 0\n",
        "else:\n",
        "    print(f\"❌ Checkpoint '{checkpoint_path}' tidak ditemukan. Training dari awal.\")\n",
        "    start_epoch = 0\n",
        "\n",
        "\n",
        "# -----------------------------\n",
        "# 5. Training Lanjutan\n",
        "# -----------------------------\n",
        "epochs = 45\n",
        "print(f\"Melanjutkan pelatihan selama {epochs} epoch...\")\n",
        "train_model(model, train_loader, val_loader, epochs, device) # Removed start_epoch\n",
        "\n",
        "# Simpan Model Final\n",
        "torch.save(model.state_dict(), \"cnn_handsign_model_final.pth\")\n",
        "print(\"\\n🎉 Pelatihan selesai! Model final diperbarui.\")"
      ],
      "metadata": {
        "id": "sB6ZeYEewhZx",
        "colab": {
          "base_uri": "https://localhost:8080/"
        },
        "outputId": "b85203af-7c83-44a9-a15e-701faa383898"
      },
      "execution_count": 34,
      "outputs": [
        {
          "output_type": "stream",
          "name": "stdout",
          "text": [
            "Menggunakan device: cuda:0\n",
            "❌ Checkpoint 'best_model.pth' tidak ditemukan. Training dari awal.\n",
            "Melanjutkan pelatihan selama 45 epoch...\n",
            "🚀 Memulai proses training...\n"
          ]
        },
        {
          "output_type": "stream",
          "name": "stderr",
          "text": []
        },
        {
          "output_type": "stream",
          "name": "stdout",
          "text": [
            "Epoch 1/45 | Train Acc: 15.35% | Val Acc: 47.07% | Train Loss: 2.8775 | Val Loss: 1.8722\n",
            "✅ Val loss membaik! Model terbaik disimpan di 'best_model.pth'\n"
          ]
        },
        {
          "output_type": "stream",
          "name": "stderr",
          "text": []
        },
        {
          "output_type": "stream",
          "name": "stdout",
          "text": [
            "Epoch 2/45 | Train Acc: 35.48% | Val Acc: 68.23% | Train Loss: 2.1012 | Val Loss: 1.2520\n",
            "✅ Val loss membaik! Model terbaik disimpan di 'best_model.pth'\n"
          ]
        },
        {
          "output_type": "stream",
          "name": "stderr",
          "text": []
        },
        {
          "output_type": "stream",
          "name": "stdout",
          "text": [
            "Epoch 3/45 | Train Acc: 46.67% | Val Acc: 73.53% | Train Loss: 1.7535 | Val Loss: 1.0685\n",
            "✅ Val loss membaik! Model terbaik disimpan di 'best_model.pth'\n"
          ]
        },
        {
          "output_type": "stream",
          "name": "stderr",
          "text": []
        },
        {
          "output_type": "stream",
          "name": "stdout",
          "text": [
            "Epoch 4/45 | Train Acc: 53.08% | Val Acc: 74.40% | Train Loss: 1.5624 | Val Loss: 0.9232\n",
            "✅ Val loss membaik! Model terbaik disimpan di 'best_model.pth'\n"
          ]
        },
        {
          "output_type": "stream",
          "name": "stderr",
          "text": []
        },
        {
          "output_type": "stream",
          "name": "stdout",
          "text": [
            "Epoch 5/45 | Train Acc: 57.56% | Val Acc: 75.66% | Train Loss: 1.4246 | Val Loss: 0.8704\n",
            "✅ Val loss membaik! Model terbaik disimpan di 'best_model.pth'\n"
          ]
        },
        {
          "output_type": "stream",
          "name": "stderr",
          "text": []
        },
        {
          "output_type": "stream",
          "name": "stdout",
          "text": [
            "Epoch 6/45 | Train Acc: 60.99% | Val Acc: 76.71% | Train Loss: 1.3214 | Val Loss: 0.8106\n",
            "✅ Val loss membaik! Model terbaik disimpan di 'best_model.pth'\n"
          ]
        },
        {
          "output_type": "stream",
          "name": "stderr",
          "text": []
        },
        {
          "output_type": "stream",
          "name": "stdout",
          "text": [
            "Epoch 7/45 | Train Acc: 62.89% | Val Acc: 77.23% | Train Loss: 1.2586 | Val Loss: 0.7847\n",
            "✅ Val loss membaik! Model terbaik disimpan di 'best_model.pth'\n"
          ]
        },
        {
          "output_type": "stream",
          "name": "stderr",
          "text": []
        },
        {
          "output_type": "stream",
          "name": "stdout",
          "text": [
            "Epoch 8/45 | Train Acc: 64.18% | Val Acc: 77.27% | Train Loss: 1.2049 | Val Loss: 0.7615\n",
            "✅ Val loss membaik! Model terbaik disimpan di 'best_model.pth'\n"
          ]
        },
        {
          "output_type": "stream",
          "name": "stderr",
          "text": []
        },
        {
          "output_type": "stream",
          "name": "stdout",
          "text": [
            "Epoch 9/45 | Train Acc: 65.18% | Val Acc: 77.84% | Train Loss: 1.1726 | Val Loss: 0.7517\n",
            "✅ Val loss membaik! Model terbaik disimpan di 'best_model.pth'\n"
          ]
        },
        {
          "output_type": "stream",
          "name": "stderr",
          "text": []
        },
        {
          "output_type": "stream",
          "name": "stdout",
          "text": [
            "Epoch 10/45 | Train Acc: 66.95% | Val Acc: 77.53% | Train Loss: 1.1078 | Val Loss: 0.7251\n",
            "✅ Val loss membaik! Model terbaik disimpan di 'best_model.pth'\n"
          ]
        },
        {
          "output_type": "stream",
          "name": "stderr",
          "text": []
        },
        {
          "output_type": "stream",
          "name": "stdout",
          "text": [
            "Epoch 11/45 | Train Acc: 67.77% | Val Acc: 77.66% | Train Loss: 1.0939 | Val Loss: 0.7221\n",
            "✅ Val loss membaik! Model terbaik disimpan di 'best_model.pth'\n"
          ]
        },
        {
          "output_type": "stream",
          "name": "stderr",
          "text": []
        },
        {
          "output_type": "stream",
          "name": "stdout",
          "text": [
            "Epoch 12/45 | Train Acc: 68.19% | Val Acc: 78.79% | Train Loss: 1.0659 | Val Loss: 0.6953\n",
            "✅ Val loss membaik! Model terbaik disimpan di 'best_model.pth'\n"
          ]
        },
        {
          "output_type": "stream",
          "name": "stderr",
          "text": []
        },
        {
          "output_type": "stream",
          "name": "stdout",
          "text": [
            "Epoch 13/45 | Train Acc: 68.60% | Val Acc: 79.27% | Train Loss: 1.0373 | Val Loss: 0.6703\n",
            "✅ Val loss membaik! Model terbaik disimpan di 'best_model.pth'\n"
          ]
        },
        {
          "output_type": "stream",
          "name": "stderr",
          "text": []
        },
        {
          "output_type": "stream",
          "name": "stdout",
          "text": [
            "Epoch 14/45 | Train Acc: 69.59% | Val Acc: 78.97% | Train Loss: 1.0225 | Val Loss: 0.6563\n",
            "✅ Val loss membaik! Model terbaik disimpan di 'best_model.pth'\n"
          ]
        },
        {
          "output_type": "stream",
          "name": "stderr",
          "text": []
        },
        {
          "output_type": "stream",
          "name": "stdout",
          "text": [
            "Epoch 15/45 | Train Acc: 70.93% | Val Acc: 80.53% | Train Loss: 0.9803 | Val Loss: 0.6542\n",
            "✅ Val loss membaik! Model terbaik disimpan di 'best_model.pth'\n"
          ]
        },
        {
          "output_type": "stream",
          "name": "stderr",
          "text": []
        },
        {
          "output_type": "stream",
          "name": "stdout",
          "text": [
            "Epoch 16/45 | Train Acc: 70.30% | Val Acc: 81.31% | Train Loss: 0.9961 | Val Loss: 0.6285\n",
            "✅ Val loss membaik! Model terbaik disimpan di 'best_model.pth'\n"
          ]
        },
        {
          "output_type": "stream",
          "name": "stderr",
          "text": []
        },
        {
          "output_type": "stream",
          "name": "stdout",
          "text": [
            "Epoch 17/45 | Train Acc: 70.96% | Val Acc: 81.18% | Train Loss: 0.9719 | Val Loss: 0.6167\n",
            "✅ Val loss membaik! Model terbaik disimpan di 'best_model.pth'\n"
          ]
        },
        {
          "output_type": "stream",
          "name": "stderr",
          "text": []
        },
        {
          "output_type": "stream",
          "name": "stdout",
          "text": [
            "Epoch 18/45 | Train Acc: 72.13% | Val Acc: 81.66% | Train Loss: 0.9414 | Val Loss: 0.6080\n",
            "✅ Val loss membaik! Model terbaik disimpan di 'best_model.pth'\n"
          ]
        },
        {
          "output_type": "stream",
          "name": "stderr",
          "text": []
        },
        {
          "output_type": "stream",
          "name": "stdout",
          "text": [
            "Epoch 19/45 | Train Acc: 71.89% | Val Acc: 81.96% | Train Loss: 0.9356 | Val Loss: 0.6038\n",
            "✅ Val loss membaik! Model terbaik disimpan di 'best_model.pth'\n"
          ]
        },
        {
          "output_type": "stream",
          "name": "stderr",
          "text": []
        },
        {
          "output_type": "stream",
          "name": "stdout",
          "text": [
            "Epoch 20/45 | Train Acc: 72.51% | Val Acc: 81.83% | Train Loss: 0.9087 | Val Loss: 0.5784\n",
            "✅ Val loss membaik! Model terbaik disimpan di 'best_model.pth'\n"
          ]
        },
        {
          "output_type": "stream",
          "name": "stderr",
          "text": []
        },
        {
          "output_type": "stream",
          "name": "stdout",
          "text": [
            "Epoch 21/45 | Train Acc: 73.13% | Val Acc: 81.88% | Train Loss: 0.8908 | Val Loss: 0.5691\n",
            "✅ Val loss membaik! Model terbaik disimpan di 'best_model.pth'\n"
          ]
        },
        {
          "output_type": "stream",
          "name": "stderr",
          "text": []
        },
        {
          "output_type": "stream",
          "name": "stdout",
          "text": [
            "Epoch 22/45 | Train Acc: 72.80% | Val Acc: 83.36% | Train Loss: 0.9008 | Val Loss: 0.5497\n",
            "✅ Val loss membaik! Model terbaik disimpan di 'best_model.pth'\n"
          ]
        },
        {
          "output_type": "stream",
          "name": "stderr",
          "text": []
        },
        {
          "output_type": "stream",
          "name": "stdout",
          "text": [
            "Epoch 23/45 | Train Acc: 74.14% | Val Acc: 82.36% | Train Loss: 0.8742 | Val Loss: 0.5576\n",
            "⚠️ Val loss tidak membaik. Counter: 1/7\n"
          ]
        },
        {
          "output_type": "stream",
          "name": "stderr",
          "text": []
        },
        {
          "output_type": "stream",
          "name": "stdout",
          "text": [
            "Epoch 24/45 | Train Acc: 74.14% | Val Acc: 83.88% | Train Loss: 0.8603 | Val Loss: 0.5341\n",
            "✅ Val loss membaik! Model terbaik disimpan di 'best_model.pth'\n"
          ]
        },
        {
          "output_type": "stream",
          "name": "stderr",
          "text": []
        },
        {
          "output_type": "stream",
          "name": "stdout",
          "text": [
            "Epoch 25/45 | Train Acc: 74.42% | Val Acc: 82.92% | Train Loss: 0.8491 | Val Loss: 0.5360\n",
            "⚠️ Val loss tidak membaik. Counter: 1/7\n"
          ]
        },
        {
          "output_type": "stream",
          "name": "stderr",
          "text": []
        },
        {
          "output_type": "stream",
          "name": "stdout",
          "text": [
            "Epoch 26/45 | Train Acc: 74.42% | Val Acc: 83.92% | Train Loss: 0.8354 | Val Loss: 0.5126\n",
            "✅ Val loss membaik! Model terbaik disimpan di 'best_model.pth'\n"
          ]
        },
        {
          "output_type": "stream",
          "name": "stderr",
          "text": []
        },
        {
          "output_type": "stream",
          "name": "stdout",
          "text": [
            "Epoch 27/45 | Train Acc: 74.68% | Val Acc: 82.83% | Train Loss: 0.8302 | Val Loss: 0.5331\n",
            "⚠️ Val loss tidak membaik. Counter: 1/7\n"
          ]
        },
        {
          "output_type": "stream",
          "name": "stderr",
          "text": []
        },
        {
          "output_type": "stream",
          "name": "stdout",
          "text": [
            "Epoch 28/45 | Train Acc: 74.89% | Val Acc: 83.79% | Train Loss: 0.8200 | Val Loss: 0.5243\n",
            "⚠️ Val loss tidak membaik. Counter: 2/7\n"
          ]
        },
        {
          "output_type": "stream",
          "name": "stderr",
          "text": []
        },
        {
          "output_type": "stream",
          "name": "stdout",
          "text": [
            "Epoch 29/45 | Train Acc: 75.44% | Val Acc: 84.31% | Train Loss: 0.8013 | Val Loss: 0.5107\n",
            "✅ Val loss membaik! Model terbaik disimpan di 'best_model.pth'\n"
          ]
        },
        {
          "output_type": "stream",
          "name": "stderr",
          "text": []
        },
        {
          "output_type": "stream",
          "name": "stdout",
          "text": [
            "Epoch 30/45 | Train Acc: 76.30% | Val Acc: 84.09% | Train Loss: 0.7780 | Val Loss: 0.4971\n",
            "✅ Val loss membaik! Model terbaik disimpan di 'best_model.pth'\n"
          ]
        },
        {
          "output_type": "stream",
          "name": "stderr",
          "text": []
        },
        {
          "output_type": "stream",
          "name": "stdout",
          "text": [
            "Epoch 31/45 | Train Acc: 75.79% | Val Acc: 84.75% | Train Loss: 0.7903 | Val Loss: 0.4784\n",
            "✅ Val loss membaik! Model terbaik disimpan di 'best_model.pth'\n"
          ]
        },
        {
          "output_type": "stream",
          "name": "stderr",
          "text": []
        },
        {
          "output_type": "stream",
          "name": "stdout",
          "text": [
            "Epoch 32/45 | Train Acc: 76.30% | Val Acc: 84.79% | Train Loss: 0.7775 | Val Loss: 0.4769\n",
            "✅ Val loss membaik! Model terbaik disimpan di 'best_model.pth'\n"
          ]
        },
        {
          "output_type": "stream",
          "name": "stderr",
          "text": []
        },
        {
          "output_type": "stream",
          "name": "stdout",
          "text": [
            "Epoch 33/45 | Train Acc: 76.34% | Val Acc: 85.57% | Train Loss: 0.7722 | Val Loss: 0.4738\n",
            "✅ Val loss membaik! Model terbaik disimpan di 'best_model.pth'\n"
          ]
        },
        {
          "output_type": "stream",
          "name": "stderr",
          "text": []
        },
        {
          "output_type": "stream",
          "name": "stdout",
          "text": [
            "Epoch 34/45 | Train Acc: 76.89% | Val Acc: 86.01% | Train Loss: 0.7623 | Val Loss: 0.4622\n",
            "✅ Val loss membaik! Model terbaik disimpan di 'best_model.pth'\n"
          ]
        },
        {
          "output_type": "stream",
          "name": "stderr",
          "text": []
        },
        {
          "output_type": "stream",
          "name": "stdout",
          "text": [
            "Epoch 35/45 | Train Acc: 76.81% | Val Acc: 85.35% | Train Loss: 0.7436 | Val Loss: 0.4759\n",
            "⚠️ Val loss tidak membaik. Counter: 1/7\n"
          ]
        },
        {
          "output_type": "stream",
          "name": "stderr",
          "text": []
        },
        {
          "output_type": "stream",
          "name": "stdout",
          "text": [
            "Epoch 36/45 | Train Acc: 77.28% | Val Acc: 85.53% | Train Loss: 0.7443 | Val Loss: 0.4663\n",
            "⚠️ Val loss tidak membaik. Counter: 2/7\n"
          ]
        },
        {
          "output_type": "stream",
          "name": "stderr",
          "text": []
        },
        {
          "output_type": "stream",
          "name": "stdout",
          "text": [
            "Epoch 37/45 | Train Acc: 77.30% | Val Acc: 85.01% | Train Loss: 0.7339 | Val Loss: 0.4707\n",
            "⚠️ Val loss tidak membaik. Counter: 3/7\n"
          ]
        },
        {
          "output_type": "stream",
          "name": "stderr",
          "text": []
        },
        {
          "output_type": "stream",
          "name": "stdout",
          "text": [
            "Epoch 38/45 | Train Acc: 77.29% | Val Acc: 86.66% | Train Loss: 0.7315 | Val Loss: 0.4479\n",
            "✅ Val loss membaik! Model terbaik disimpan di 'best_model.pth'\n"
          ]
        },
        {
          "output_type": "stream",
          "name": "stderr",
          "text": []
        },
        {
          "output_type": "stream",
          "name": "stdout",
          "text": [
            "Epoch 39/45 | Train Acc: 78.00% | Val Acc: 85.96% | Train Loss: 0.7139 | Val Loss: 0.4326\n",
            "✅ Val loss membaik! Model terbaik disimpan di 'best_model.pth'\n"
          ]
        },
        {
          "output_type": "stream",
          "name": "stderr",
          "text": []
        },
        {
          "output_type": "stream",
          "name": "stdout",
          "text": [
            "Epoch 40/45 | Train Acc: 78.36% | Val Acc: 86.74% | Train Loss: 0.6934 | Val Loss: 0.4220\n",
            "✅ Val loss membaik! Model terbaik disimpan di 'best_model.pth'\n"
          ]
        },
        {
          "output_type": "stream",
          "name": "stderr",
          "text": []
        },
        {
          "output_type": "stream",
          "name": "stdout",
          "text": [
            "Epoch 41/45 | Train Acc: 79.10% | Val Acc: 86.66% | Train Loss: 0.6892 | Val Loss: 0.4179\n",
            "✅ Val loss membaik! Model terbaik disimpan di 'best_model.pth'\n"
          ]
        },
        {
          "output_type": "stream",
          "name": "stderr",
          "text": []
        },
        {
          "output_type": "stream",
          "name": "stdout",
          "text": [
            "Epoch 42/45 | Train Acc: 78.56% | Val Acc: 87.53% | Train Loss: 0.6971 | Val Loss: 0.4074\n",
            "✅ Val loss membaik! Model terbaik disimpan di 'best_model.pth'\n"
          ]
        },
        {
          "output_type": "stream",
          "name": "stderr",
          "text": []
        },
        {
          "output_type": "stream",
          "name": "stdout",
          "text": [
            "Epoch 43/45 | Train Acc: 78.80% | Val Acc: 87.48% | Train Loss: 0.6719 | Val Loss: 0.3989\n",
            "✅ Val loss membaik! Model terbaik disimpan di 'best_model.pth'\n"
          ]
        },
        {
          "output_type": "stream",
          "name": "stderr",
          "text": []
        },
        {
          "output_type": "stream",
          "name": "stdout",
          "text": [
            "Epoch 44/45 | Train Acc: 79.39% | Val Acc: 87.74% | Train Loss: 0.6568 | Val Loss: 0.3968\n",
            "✅ Val loss membaik! Model terbaik disimpan di 'best_model.pth'\n"
          ]
        },
        {
          "output_type": "stream",
          "name": "stderr",
          "text": [
            "                                                                  "
          ]
        },
        {
          "output_type": "stream",
          "name": "stdout",
          "text": [
            "Epoch 45/45 | Train Acc: 79.88% | Val Acc: 87.92% | Train Loss: 0.6605 | Val Loss: 0.3972\n",
            "⚠️ Val loss tidak membaik. Counter: 1/7\n",
            "🏁 Training selesai.\n",
            "\n",
            "🎉 Pelatihan selesai! Model final diperbarui.\n"
          ]
        },
        {
          "output_type": "stream",
          "name": "stderr",
          "text": [
            "\r"
          ]
        }
      ]
    },
    {
      "cell_type": "code",
      "source": [
        "def evaluate(model, loader, device='cuda'):\n",
        "    model.to(device)\n",
        "    model.eval()\n",
        "    correct = 0\n",
        "    total = 0\n",
        "    incorrect_samples = []\n",
        "\n",
        "    with torch.no_grad():\n",
        "        for images, labels in tqdm(loader, desc=\"Evaluating\"):\n",
        "            images, labels = images.to(device), labels.to(device)\n",
        "            outputs = model(images)\n",
        "            _, preds = outputs.max(1)\n",
        "            total += labels.size(0)\n",
        "\n",
        "            correct += (preds == labels).sum().item()\n",
        "            for i in range(len(labels)):\n",
        "                if preds[i] != labels[i]:\n",
        "                    incorrect_samples.append((images[i].cpu(), preds[i].cpu(), labels[i].cpu()))\n",
        "\n",
        "    print(f\"Accuracy: {100 * correct / total:.2f}%\")\n",
        "    return incorrect_samples"
      ],
      "metadata": {
        "id": "cTw-OBLXPEGI"
      },
      "execution_count": 31,
      "outputs": []
    },
    {
      "cell_type": "code",
      "source": [
        "import os\n",
        "import pandas as pd\n",
        "from torch.utils.data import DataLoader\n",
        "\n",
        "# Try lowercase 'test' first\n",
        "PATH_TEST = os.path.join(PATH_DATASET, \"images/val\")\n",
        "\n",
        "# If lowercase 'test' doesn't exist, try uppercase 'Test' (though less likely based on previous errors)\n",
        "if not os.path.exists(PATH_TEST):\n",
        "    PATH_TEST = os.path.join(PATH_DATASET, \"images/val\")\n",
        "\n",
        "print(f\"Attempting to load test data from: {PATH_TEST}\")\n",
        "\n",
        "# Define LABELS from the keys of label_mapping\n",
        "LABELS = list(label_mapping.keys())\n",
        "\n",
        "data_test = []\n",
        "if os.path.exists(PATH_TEST):\n",
        "    for label in LABELS:\n",
        "        label_path = os.path.join(PATH_TEST, label)\n",
        "        if not os.path.exists(label_path):\n",
        "            print(f\"Warning: {label_path} tidak ditemukan, dilewati.\")\n",
        "            continue\n",
        "        for fname in os.listdir(label_path):\n",
        "            full_path = os.path.join(label_path, fname)\n",
        "            if os.path.isfile(full_path):\n",
        "                data_test.append({\n",
        "                    \"label\": label,  # Simpan string label\n",
        "                    \"full_path\": full_path\n",
        "                })\n",
        "else:\n",
        "    print(f\"Error: Test data directory not found at {PATH_TEST}\")\n",
        "\n",
        "\n",
        "df_test = pd.DataFrame(data_test)\n",
        "\n",
        "# Only create DataLoader if test data was found\n",
        "if len(df_test) > 0:\n",
        "    test_loader = DataLoader(\n",
        "        BISINDODataset(PATH_TEST, PATH_TEST, val_transform), # Use BISINDODataset and correct paths\n",
        "        batch_size=64,\n",
        "        shuffle=False\n",
        "    )\n",
        "    print(f\"Total data test: {len(df_test)}\")\n",
        "else:\n",
        "    print(\"No test data found. Cannot create test_loader.\")"
      ],
      "metadata": {
        "id": "HyPYpUFlPewv",
        "colab": {
          "base_uri": "https://localhost:8080/"
        },
        "outputId": "5c4fb1be-9707-4aa8-ea05-86b54ebadb8b"
      },
      "execution_count": 32,
      "outputs": [
        {
          "output_type": "stream",
          "name": "stdout",
          "text": [
            "Attempting to load test data from: /content/dataset/bisindo/images/val\n",
            "Total data test: 2301\n"
          ]
        }
      ]
    },
    {
      "cell_type": "code",
      "source": [
        "incorrect = evaluate(model, test_loader)\n",
        "\n",
        "print(len(incorrect))\n",
        "for i in range(min(5, len(incorrect))):\n",
        "    img, pred, label = incorrect[i]\n",
        "    plt.imshow(img.squeeze(), cmap='gray')\n",
        "    plt.title(f\"Predicted: {inv_label_mapping[pred.item()]}, Actual: {inv_label_mapping[label.item()]}\")\n",
        "    plt.axis('off')\n",
        "    plt.show()"
      ],
      "metadata": {
        "id": "I77z8YYpPggU",
        "colab": {
          "base_uri": "https://localhost:8080/",
          "height": 1000
        },
        "outputId": "6df3560a-cd5b-48b1-cdd2-dbfbf7d2f259"
      },
      "execution_count": 33,
      "outputs": [
        {
          "output_type": "stream",
          "name": "stderr",
          "text": [
            "Evaluating: 100%|██████████| 36/36 [00:10<00:00,  3.42it/s]"
          ]
        },
        {
          "output_type": "stream",
          "name": "stdout",
          "text": [
            "Accuracy: 88.70%\n",
            "260\n"
          ]
        },
        {
          "output_type": "stream",
          "name": "stderr",
          "text": [
            "\n"
          ]
        },
        {
          "output_type": "display_data",
          "data": {
            "text/plain": [
              "<Figure size 640x480 with 1 Axes>"
            ],
            "image/png": "[encoded data removed]"
          },
          "metadata": {}
        },
        {
          "output_type": "display_data",
          "data": {
            "text/plain": [
              "<Figure size 640x480 with 1 Axes>"
            ],
            "image/png": "[encoded data removed]"
          },
          "metadata": {}
        },
        {
          "output_type": "display_data",
          "data": {
            "text/plain": [
              "<Figure size 640x480 with 1 Axes>"
            ],
            "image/png": "[encoded data removed]"
          },
          "metadata": {}
        },
        {
          "output_type": "display_data",
          "data": {
            "text/plain": [
              "<Figure size 640x480 with 1 Axes>"
            ],
            "image/png": "[encoded data removed]"
          },
          "metadata": {}
        },
        {
          "output_type": "display_data",
          "data": {
            "text/plain": [
              "<Figure size 640x480 with 1 Axes>"
            ],
            "image/png": "[encoded data removed]"
          },
          "metadata": {}
        }
      ]
    }
  ]
}